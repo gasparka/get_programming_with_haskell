{
 "cells": [
  {
   "cell_type": "code",
   "execution_count": 8,
   "metadata": {},
   "outputs": [
    {
     "data": {
      "text/plain": [
       "\"Killr, Vadim (12yrs. 170in.)\""
      ]
     },
     "metadata": {},
     "output_type": "display_data"
    }
   ],
   "source": [
    "patientInfo :: String -> String -> Int -> Int -> String\n",
    "patientInfo fname lname age height = name ++ \" \" ++ ageHeight\n",
    "    where name = lname ++ \", \" ++ fname\n",
    "          ageHeight = \"(\" ++ show age ++ \"yrs. \" ++ show height ++ \"in.)\"\n",
    "\n",
    "patientInfo \"Vadim\" \"Killr\" 12 170"
   ]
  },
  {
   "cell_type": "code",
   "execution_count": 9,
   "metadata": {},
   "outputs": [],
   "source": [
    "type PatientName = (String, String)\n",
    "firstname patient = fst patient\n",
    "lastname patient = snd patient\n",
    "type Age = Int\n",
    "type Height = Int"
   ]
  },
  {
   "cell_type": "code",
   "execution_count": 10,
   "metadata": {},
   "outputs": [
    {
     "data": {
      "text/plain": [
       "\"Vadim, Killr (12yrs. 170in.)\""
      ]
     },
     "metadata": {},
     "output_type": "display_data"
    }
   ],
   "source": [
    "patientInfo :: PatientName -> Age -> Height -> String\n",
    "patientInfo patient age height = name ++ \" \" ++ ageHeight\n",
    "    where name = firstname patient ++ \", \" ++ lastname patient\n",
    "          ageHeight = \"(\" ++ show age ++ \"yrs. \" ++ show height ++ \"in.)\"\n",
    "patientInfo (\"Vadim\",\"Killr\") 12 170"
   ]
  },
  {
   "cell_type": "code",
   "execution_count": 11,
   "metadata": {},
   "outputs": [],
   "source": [
    "data Sex = Male | Female\n",
    "sexInitial :: Sex -> Char\n",
    "sexInitial Male = 'M'\n",
    "sexInitial Female = 'F'"
   ]
  },
  {
   "cell_type": "code",
   "execution_count": 19,
   "metadata": {},
   "outputs": [
    {
     "data": {
      "text/plain": [
       "\"A+\""
      ]
     },
     "metadata": {},
     "output_type": "display_data"
    }
   ],
   "source": [
    "data RhType = Pos | Neg\n",
    "showRh Pos = \"+\"\n",
    "showRh Neg = \"-\"\n",
    "\n",
    "data ABOType = A | B | AB | O\n",
    "showABO A = \"A\"\n",
    "showABO B = \"B\"\n",
    "showABO AB = \"AB\"\n",
    "showABO O = \"O\"\n",
    "\n",
    "data BloodType = BloodType ABOType RhType\n",
    "showBloodType (BloodType abo rh) = showABO abo ++ showRh rh\n",
    "\n",
    "\n",
    "patient1BT = BloodType A Pos\n",
    "showBloodType patient1BT"
   ]
  },
  {
   "cell_type": "code",
   "execution_count": 25,
   "metadata": {},
   "outputs": [
    {
     "data": {
      "text/plain": [
       "False"
      ]
     },
     "metadata": {},
     "output_type": "display_data"
    }
   ],
   "source": [
    "canDonateTo :: BloodType -> BloodType -> Bool\n",
    "canDonateTo (BloodType O _) _ = True --universal donor\n",
    "canDonateTo _ (BloodType AB _) = True --universal receiver\n",
    "canDonateTo (BloodType A _) (BloodType A _) = True\n",
    "canDonateTo (BloodType B _) (BloodType B _) = True\n",
    "canDonateTo _ _ = False\n",
    "\n",
    "patient2BT = BloodType B Neg\n",
    "\n",
    "canDonateTo patient1BT patient2BT"
   ]
  },
  {
   "cell_type": "code",
   "execution_count": 29,
   "metadata": {},
   "outputs": [
    {
     "data": {
      "text/plain": [
       "\"Vadim Poeg\""
      ]
     },
     "metadata": {},
     "output_type": "display_data"
    },
    {
     "data": {
      "text/plain": [
       "\"Vadim J Poeg\""
      ]
     },
     "metadata": {},
     "output_type": "display_data"
    }
   ],
   "source": [
    "type FirstName = String\n",
    "type LastName = String\n",
    "type MiddleName = String\n",
    "\n",
    "data Name = Name FirstName LastName\n",
    "            | NameWithMiddle FirstName MiddleName LastName\n",
    "\n",
    "name1 = Name \"Vadim\" \"Poeg\"\n",
    "name2 = NameWithMiddle \"Vadim\" \"J\" \"Poeg\"\n",
    "\n",
    "showName :: Name -> String\n",
    "showName (Name f l) = f ++ \" \" ++ l\n",
    "showName (NameWithMiddle f m l) = f ++ \" \" ++ m ++ \" \" ++ l\n",
    "\n",
    "showName name1\n",
    "showName name2"
   ]
  },
  {
   "cell_type": "code",
   "execution_count": 30,
   "metadata": {},
   "outputs": [],
   "source": [
    "data Patient = Patient Name Sex Int Int Int BloodType\n",
    "johnDoe = Patient (Name \"John\" \"Doe\") Male 30 74 200 (BloodType AB Pos)"
   ]
  },
  {
   "cell_type": "code",
   "execution_count": 34,
   "metadata": {},
   "outputs": [],
   "source": [
    "data Patient = Patient { name :: Name\n",
    "                        , sex :: Sex\n",
    "                        , age :: Int\n",
    "                        , height:: Int\n",
    "                        , weight:: Int\n",
    "                        , bloodType:: BloodType}\n",
    "                        \n",
    "vadimPoeg = Patient {name = Name \"Vadim\" \"Loom\", age= 12, sex= Male, height=123, weight=123, bloodType = BloodType AB Pos}"
   ]
  },
  {
   "cell_type": "code",
   "execution_count": 36,
   "metadata": {},
   "outputs": [
    {
     "data": {
      "text/plain": [
       "\"Vadim Loom\""
      ]
     },
     "metadata": {},
     "output_type": "display_data"
    }
   ],
   "source": [
    "showName (name vadimPoeg)"
   ]
  },
  {
   "cell_type": "code",
   "execution_count": 38,
   "metadata": {},
   "outputs": [
    {
     "data": {
      "text/plain": [
       "90"
      ]
     },
     "metadata": {},
     "output_type": "display_data"
    }
   ],
   "source": [
    "vanemVadim = vadimPoeg{age=90}\n",
    "age vanemVadim"
   ]
  },
  {
   "cell_type": "markdown",
   "metadata": {},
   "source": [
    "# Q12.1"
   ]
  },
  {
   "cell_type": "code",
   "execution_count": 43,
   "metadata": {},
   "outputs": [
    {
     "data": {
      "text/plain": [
       "True"
      ]
     },
     "metadata": {},
     "output_type": "display_data"
    }
   ],
   "source": [
    "donor :: Patient -> Patient -> Bool\n",
    "donor a b = canDonateTo (bloodType a) (bloodType b) --universal donor\n",
    "donor vanemVadim vadimPoeg"
   ]
  }
 ],
 "metadata": {
  "kernelspec": {
   "display_name": "Haskell",
   "language": "haskell",
   "name": "haskell"
  },
  "language_info": {
   "codemirror_mode": "ihaskell",
   "file_extension": ".hs",
   "name": "haskell",
   "pygments_lexer": "Haskell",
   "version": "8.6.4"
  }
 },
 "nbformat": 4,
 "nbformat_minor": 2
}
