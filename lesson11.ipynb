{
 "cells": [
  {
   "cell_type": "code",
   "execution_count": 3,
   "metadata": {},
   "outputs": [
    {
     "ename": "",
     "evalue": "",
     "output_type": "error",
     "traceback": [
      "<interactive>:1:19: error:\n    • Could not deduce (Fractional Int) arising from a use of ‘/’\n      from the context: Foldable t bound by the inferred type of myAverage :: Foldable t => t Int -> Int at <interactive>:1:1-42\n    • In the expression: sum aList / length aList\n      In an equation for ‘myAverage’: myAverage aList = sum aList / length aList"
     ]
    }
   ],
   "source": [
    "myAverage aList = sum aList / length aList"
   ]
  },
  {
   "cell_type": "code",
   "execution_count": 10,
   "metadata": {},
   "outputs": [
    {
     "data": {
      "text/plain": [
       "0"
      ]
     },
     "metadata": {},
     "output_type": "display_data"
    }
   ],
   "source": [
    "x :: Int\n",
    "x = 2^64\n",
    "x"
   ]
  },
  {
   "cell_type": "code",
   "execution_count": 12,
   "metadata": {},
   "outputs": [
    {
     "data": {
      "text/plain": [
       "512950851714177793056997301726410157634984663221497191412947469590742115933313461792543680297584270919570818010765628044802856303808848513579699482552185271441917675412918788899786968919486511294752690028219808616835972332538706277980128945759883671517646060081747809838270069466554273793347117366972172222193481787540934377257233588579699212321905198314219108364943114533842244895282244145270598183756180332706397229451822789949587922540822340770186927893676718868315267403547718383695037370159748763512467565291758507699886602860163610854847576841281358903361281725005728884244069096419203379891517362236435085599259124841192867688614511642172068969827655647285255465518482713191578476029070150391096738172625718146410899337280435914872055504922303944713315606642019593854367876663416678034825381526999494680927170422715533750219300641996161387859618621597362717150387821771122823027790826085871266340294720358023508540823767336681076855650813066930080293130275521130277550414088360910904551924140146249347298544272503809661578292140133284227745528429210481617892329606453805013262187311688840828651815148825983798061644682058475326122924592741880853916596634268003084546549811512605509859295756322905476582265655959657656652679921060302649272247553615099126193777606022649368634814125316325294014554043154110646955078917371628424761711746828017025883720141629366185842713591722428831163606525190838515420836799206703106552362085786411480194730755566224367531844508010513404393825481802312604983412979920294096872129583645567022453710021082811871938654608497016750579942459097147176909595916538045007566958534388713055841187859478850977379125799357385006996126886692758088027178057661463230411190298746208971334169810750221012127766078321642283910955097562339838425451220051373721420836684881671949362829915665239625130043057137306506647871095749155285509691444617854250397756616435947576115825774154694882279654031346282580409204366607864520042226893119043049346398258132402096884958375915278451067259670728697263248093886377820080159951426534235448469415437605195765433535679692996428660559750436938433616468423465476710031230401772636022773537363511957984488365814257497601570617328511056653320180243754037802999110582434674300862750778334795198648609880633436398761168691045818936163113619120468080800300246604340236848443857567340817657068514949007620160382960673101055883058262447321365091740777249991978732184808081351212303599648317251543166377960239493729259161662305599620819054464709294503315462562216654654774605560977586001650841427899062091058756019922811282408400313545619445622442908885411666510728267399270136590478783644246355877739236549935800096156951781162228699139700901797516738542838497833916730552481600564405486316302991531194875887251728948648854844720294627756960596563240366604383333821493941273140984608326738778781015796610455685065981903475717713135248669916751871407097954520609427721857825272142128481566511731671416649847405565157634733012515182600539044571640062954085821745851377863731326867294677530813701335290246292539949518422016"
      ]
     },
     "metadata": {},
     "output_type": "display_data"
    }
   ],
   "source": [
    "x :: Integer\n",
    "x = 2^10204\n",
    "x"
   ]
  },
  {
   "cell_type": "code",
   "execution_count": 15,
   "metadata": {},
   "outputs": [
    {
     "data": {
      "text/plain": [
       "[1,2,3]"
      ]
     },
     "metadata": {},
     "output_type": "display_data"
    }
   ],
   "source": [
    "val :: [Int]\n",
    "val = [1, 2, 3]\n",
    "val"
   ]
  },
  {
   "cell_type": "code",
   "execution_count": 18,
   "metadata": {},
   "outputs": [
    {
     "data": {
      "text/plain": [
       "2.5"
      ]
     },
     "metadata": {},
     "output_type": "display_data"
    }
   ],
   "source": [
    "half :: Int -> Double\n",
    "half n = (fromIntegral n)/2\n",
    "half 5"
   ]
  },
  {
   "cell_type": "code",
   "execution_count": 19,
   "metadata": {},
   "outputs": [
    {
     "data": {
      "text/plain": [
       "2"
      ]
     },
     "metadata": {},
     "output_type": "display_data"
    }
   ],
   "source": [
    "half :: Int -> Int\n",
    "half n = n `div` 2\n",
    "half 5"
   ]
  },
  {
   "cell_type": "code",
   "execution_count": 20,
   "metadata": {},
   "outputs": [
    {
     "data": {
      "text/plain": [
       "\"4\""
      ]
     },
     "metadata": {},
     "output_type": "display_data"
    }
   ],
   "source": [
    "printDouble :: Int -> String\n",
    "printDouble n = show (n*2)\n",
    "printDouble 2"
   ]
  },
  {
   "cell_type": "code",
   "execution_count": 25,
   "metadata": {},
   "outputs": [
    {
     "data": {
      "text/plain": [
       "3.0"
      ]
     },
     "metadata": {},
     "output_type": "display_data"
    }
   ],
   "source": [
    "z = read \"6\"\n",
    "q = z / 2\n",
    "q"
   ]
  },
  {
   "cell_type": "code",
   "execution_count": 26,
   "metadata": {},
   "outputs": [
    {
     "ename": "",
     "evalue": "",
     "output_type": "error",
     "traceback": [
      "Prelude.read: no parse"
     ]
    }
   ],
   "source": [
    "z = read \"6\"\n",
    "z"
   ]
  },
  {
   "cell_type": "code",
   "execution_count": 28,
   "metadata": {},
   "outputs": [
    {
     "data": {
      "text/plain": [
       "6"
      ]
     },
     "metadata": {},
     "output_type": "display_data"
    }
   ],
   "source": [
    "z :: Int\n",
    "z = read \"6\"\n",
    "z"
   ]
  },
  {
   "cell_type": "code",
   "execution_count": 29,
   "metadata": {},
   "outputs": [
    {
     "data": {
      "text/plain": [
       "(1,\"Vadim\",\"Tal\")"
      ]
     },
     "metadata": {},
     "output_type": "display_data"
    }
   ],
   "source": [
    "makeAddress :: Int -> String -> String -> (Int, String, String)\n",
    "makeAddress number street town = (number, street, town)\n",
    "makeAddress 1 \"Vadim\" \"Tal\""
   ]
  },
  {
   "cell_type": "code",
   "execution_count": 32,
   "metadata": {},
   "outputs": [
    {
     "data": {
      "text/html": [
       "<style>/* Styles used for the Hoogle display in the pager */\n",
       ".hoogle-doc {\n",
       "display: block;\n",
       "padding-bottom: 1.3em;\n",
       "padding-left: 0.4em;\n",
       "}\n",
       ".hoogle-code {\n",
       "display: block;\n",
       "font-family: monospace;\n",
       "white-space: pre;\n",
       "}\n",
       ".hoogle-text {\n",
       "display: block;\n",
       "}\n",
       ".hoogle-name {\n",
       "color: green;\n",
       "font-weight: bold;\n",
       "}\n",
       ".hoogle-head {\n",
       "font-weight: bold;\n",
       "}\n",
       ".hoogle-sub {\n",
       "display: block;\n",
       "margin-left: 0.4em;\n",
       "}\n",
       ".hoogle-package {\n",
       "font-weight: bold;\n",
       "font-style: italic;\n",
       "}\n",
       ".hoogle-module {\n",
       "font-weight: bold;\n",
       "}\n",
       ".hoogle-class {\n",
       "font-weight: bold;\n",
       "}\n",
       ".get-type {\n",
       "color: green;\n",
       "font-weight: bold;\n",
       "font-family: monospace;\n",
       "display: block;\n",
       "white-space: pre-wrap;\n",
       "}\n",
       ".show-type {\n",
       "color: green;\n",
       "font-weight: bold;\n",
       "font-family: monospace;\n",
       "margin-left: 1em;\n",
       "}\n",
       ".mono {\n",
       "font-family: monospace;\n",
       "display: block;\n",
       "}\n",
       ".err-msg {\n",
       "color: red;\n",
       "font-style: italic;\n",
       "font-family: monospace;\n",
       "white-space: pre;\n",
       "display: block;\n",
       "}\n",
       "#unshowable {\n",
       "color: red;\n",
       "font-weight: bold;\n",
       "}\n",
       ".err-msg.in.collapse {\n",
       "padding-top: 0.7em;\n",
       "}\n",
       ".highlight-code {\n",
       "white-space: pre;\n",
       "font-family: monospace;\n",
       "}\n",
       ".suggestion-warning { \n",
       "font-weight: bold;\n",
       "color: rgb(200, 130, 0);\n",
       "}\n",
       ".suggestion-error { \n",
       "font-weight: bold;\n",
       "color: red;\n",
       "}\n",
       ".suggestion-name {\n",
       "font-weight: bold;\n",
       "}\n",
       "</style><div class=\"suggestion-name\" style=\"clear:both;\">Redundant lambda</div><div class=\"suggestion-row\" style=\"float: left;\"><div class=\"suggestion-warning\">Found:</div><div class=\"highlight-code\" id=\"haskell\">makeAddressL\n",
       "  = (\\ number -> (\\ street -> (\\ town -> (number, street, town))))</div></div><div class=\"suggestion-row\" style=\"float: left;\"><div class=\"suggestion-warning\">Why Not:</div><div class=\"highlight-code\" id=\"haskell\">makeAddressL number street town = (number, street, town)</div></div><div class=\"suggestion-name\" style=\"clear:both;\">Redundant bracket</div><div class=\"suggestion-row\" style=\"float: left;\"><div class=\"suggestion-warning\">Found:</div><div class=\"highlight-code\" id=\"haskell\">(\\ number -> (\\ street -> (\\ town -> (number, street, town))))</div></div><div class=\"suggestion-row\" style=\"float: left;\"><div class=\"suggestion-warning\">Why Not:</div><div class=\"highlight-code\" id=\"haskell\">\\ number -> (\\ street -> (\\ town -> (number, street, town)))</div></div><div class=\"suggestion-name\" style=\"clear:both;\">Collapse lambdas</div><div class=\"suggestion-row\" style=\"float: left;\"><div class=\"suggestion-warning\">Found:</div><div class=\"highlight-code\" id=\"haskell\">\\ number -> (\\ street -> (\\ town -> (number, street, town)))</div></div><div class=\"suggestion-row\" style=\"float: left;\"><div class=\"suggestion-warning\">Why Not:</div><div class=\"highlight-code\" id=\"haskell\">\\ number street town -> (number, street, town)</div></div><div class=\"suggestion-name\" style=\"clear:both;\">Redundant bracket</div><div class=\"suggestion-row\" style=\"float: left;\"><div class=\"suggestion-warning\">Found:</div><div class=\"highlight-code\" id=\"haskell\">\\ number -> (\\ street -> (\\ town -> (number, street, town)))</div></div><div class=\"suggestion-row\" style=\"float: left;\"><div class=\"suggestion-warning\">Why Not:</div><div class=\"highlight-code\" id=\"haskell\">\\ number -> \\ street -> (\\ town -> (number, street, town))</div></div><div class=\"suggestion-name\" style=\"clear:both;\">Collapse lambdas</div><div class=\"suggestion-row\" style=\"float: left;\"><div class=\"suggestion-warning\">Found:</div><div class=\"highlight-code\" id=\"haskell\">\\ street -> (\\ town -> (number, street, town))</div></div><div class=\"suggestion-row\" style=\"float: left;\"><div class=\"suggestion-warning\">Why Not:</div><div class=\"highlight-code\" id=\"haskell\">\\ street town -> (number, street, town)</div></div><div class=\"suggestion-name\" style=\"clear:both;\">Redundant bracket</div><div class=\"suggestion-row\" style=\"float: left;\"><div class=\"suggestion-warning\">Found:</div><div class=\"highlight-code\" id=\"haskell\">\\ street -> (\\ town -> (number, street, town))</div></div><div class=\"suggestion-row\" style=\"float: left;\"><div class=\"suggestion-warning\">Why Not:</div><div class=\"highlight-code\" id=\"haskell\">\\ street -> \\ town -> (number, street, town)</div></div><div class=\"suggestion-name\" style=\"clear:both;\">Use tuple-section</div><div class=\"suggestion-row\" style=\"float: left;\"><div class=\"suggestion-warning\">Found:</div><div class=\"highlight-code\" id=\"haskell\">\\ town -> (number, street, town)</div></div><div class=\"suggestion-row\" style=\"float: left;\"><div class=\"suggestion-warning\">Why Not:</div><div class=\"highlight-code\" id=\"haskell\">(number, street,)</div></div>"
      ],
      "text/plain": [
       "Line 1: Redundant lambda\n",
       "Found:\n",
       "makeAddressL\n",
       "  = (\\ number -> (\\ street -> (\\ town -> (number, street, town))))\n",
       "Why not:\n",
       "makeAddressL number street town = (number, street, town)Line 1: Redundant bracket\n",
       "Found:\n",
       "(\\ number -> (\\ street -> (\\ town -> (number, street, town))))\n",
       "Why not:\n",
       "\\ number -> (\\ street -> (\\ town -> (number, street, town)))Line 1: Collapse lambdas\n",
       "Found:\n",
       "\\ number -> (\\ street -> (\\ town -> (number, street, town)))\n",
       "Why not:\n",
       "\\ number street town -> (number, street, town)Line 1: Redundant bracket\n",
       "Found:\n",
       "\\ number -> (\\ street -> (\\ town -> (number, street, town)))\n",
       "Why not:\n",
       "\\ number -> \\ street -> (\\ town -> (number, street, town))Line 2: Collapse lambdas\n",
       "Found:\n",
       "\\ street -> (\\ town -> (number, street, town))\n",
       "Why not:\n",
       "\\ street town -> (number, street, town)Line 2: Redundant bracket\n",
       "Found:\n",
       "\\ street -> (\\ town -> (number, street, town))\n",
       "Why not:\n",
       "\\ street -> \\ town -> (number, street, town)Line 3: Use tuple-section\n",
       "Found:\n",
       "\\ town -> (number, street, town)\n",
       "Why not:\n",
       "(number, street,)"
      ]
     },
     "metadata": {},
     "output_type": "display_data"
    },
    {
     "data": {
      "text/plain": [
       "(1,\"Vadim\",\"Tal\")"
      ]
     },
     "metadata": {},
     "output_type": "display_data"
    }
   ],
   "source": [
    "makeAddressL = (\\number -> \n",
    "                (\\street -> \n",
    "                (\\town -> (number, street, town))))\n",
    "\n",
    "makeAddressL 1 \"Vadim\" \"Tal\""
   ]
  },
  {
   "cell_type": "markdown",
   "metadata": {},
   "source": [
    "# 11.1"
   ]
  },
  {
   "cell_type": "code",
   "execution_count": null,
   "metadata": {},
   "outputs": [],
   "source": [
    "filter:: (x->Bool) -> [x] -> [x]"
   ]
  },
  {
   "cell_type": "markdown",
   "metadata": {},
   "source": [
    "# 11.2"
   ]
  },
  {
   "cell_type": "code",
   "execution_count": null,
   "metadata": {},
   "outputs": [],
   "source": [
    "tail:: [x] -> [x]\n",
    "head:: [x] -> x"
   ]
  },
  {
   "cell_type": "markdown",
   "metadata": {},
   "source": [
    "# 11.3"
   ]
  },
  {
   "cell_type": "code",
   "execution_count": 40,
   "metadata": {},
   "outputs": [
    {
     "data": {
      "text/plain": [
       "6"
      ]
     },
     "metadata": {},
     "output_type": "display_data"
    }
   ],
   "source": [
    "myFoldl:: (a->b->a) -> a -> [b] -> a\n",
    "myFoldl f init [] = init\n",
    "myFoldl f init (x:xs) = myFoldl f newInit xs\n",
    "    where newInit = f init x\n",
    "\n",
    "myFoldl (+) 0 [1, 2, 3]"
   ]
  }
 ],
 "metadata": {
  "kernelspec": {
   "display_name": "Haskell",
   "language": "haskell",
   "name": "haskell"
  },
  "language_info": {
   "codemirror_mode": "ihaskell",
   "file_extension": ".hs",
   "name": "haskell",
   "pygments_lexer": "Haskell",
   "version": "8.6.4"
  }
 },
 "nbformat": 4,
 "nbformat_minor": 2
}
