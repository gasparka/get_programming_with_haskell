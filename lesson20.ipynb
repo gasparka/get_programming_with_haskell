{
 "cells": [
  {
   "cell_type": "code",
   "execution_count": 1,
   "metadata": {},
   "outputs": [],
   "source": [
    "import Data.List\n",
    "import qualified Data.Map as Map\n",
    "import Data.Semigroup\n",
    "import Data.Maybe"
   ]
  },
  {
   "cell_type": "code",
   "execution_count": 2,
   "metadata": {},
   "outputs": [],
   "source": [
    "file1 :: [(Int,Double)]\n",
    "file1 = [ (1, 200.1), (2, 199.5), (3, 199.4)\n",
    "    , (4, 198.9), (5, 199.0), (6, 200.2)\n",
    "    , (9, 200.3), (10, 201.2), (12, 202.9)]\n",
    "\n",
    "file2 :: [(Int,Double)]\n",
    "file2 = [(11, 201.6), (12, 201.5), (13, 201.5)\n",
    "    ,(14, 203.5), (15, 204.9), (16, 207.1)\n",
    "    ,(18, 210.5), (20, 208.8)]\n",
    "\n",
    "file3 :: [(Int,Double)]\n",
    "file3 = [(10, 201.2), (11, 201.6), (12, 201.5)\n",
    "    ,(13, 201.5), (14, 203.5), (17, 210.5)\n",
    "    ,(24, 215.1), (25, 218.7)]\n",
    "\n",
    "file4 :: [(Int,Double)]\n",
    "file4 = [(26, 219.8), (27, 220.5), (28, 223.8)\n",
    "    ,(29, 222.8), (30,223.8), (31, 221.7)\n",
    "    ,(32, 222.3), (33,220.8), (34, 219.4)\n",
    "    ,(35, 220.1), (36,220.6)]\n",
    "\n",
    "\n"
   ]
  },
  {
   "cell_type": "code",
   "execution_count": 3,
   "metadata": {},
   "outputs": [
    {
     "data": {
      "text/plain": [
       "1"
      ]
     },
     "metadata": {},
     "output_type": "display_data"
    }
   ],
   "source": [
    "minimum [1, 2]"
   ]
  },
  {
   "cell_type": "code",
   "execution_count": 4,
   "metadata": {},
   "outputs": [],
   "source": [
    "data TimeSeries a = TimeSeries [Int] [Maybe a] deriving Show"
   ]
  },
  {
   "cell_type": "code",
   "execution_count": 5,
   "metadata": {},
   "outputs": [],
   "source": [
    "createTimeSeries :: [Int] -> [a] -> TimeSeries a\n",
    "createTimeSeries keys values = TimeSeries contiguousKeys contiguousValues\n",
    "    where           \n",
    "        contiguousKeys = [minimum keys .. maximum keys]\n",
    "        tmpMap = Map.fromList (zip keys values)\n",
    "        contiguousValues = [Map.lookup key tmpMap | key <- contiguousKeys]\n",
    "        \n",
    "fileToTimeSeries :: [(Int, a)] -> TimeSeries a\n",
    "fileToTimeSeries x = createTimeSeries keys values\n",
    "    where (keys, values) = unzip x "
   ]
  },
  {
   "cell_type": "code",
   "execution_count": 6,
   "metadata": {},
   "outputs": [
    {
     "data": {
      "text/plain": [
       "TimeSeries [1,2,3,4,5,6,7,8,9,10,11,12] [Just 200.1,Just 199.5,Just 199.4,Just 198.9,Just 199.0,Just 200.2,Nothing,Nothing,Just 200.3,Just 201.2,Nothing,Just 202.9]"
      ]
     },
     "metadata": {},
     "output_type": "display_data"
    }
   ],
   "source": [
    "fileToTimeSeries file1"
   ]
  },
  {
   "cell_type": "code",
   "execution_count": 7,
   "metadata": {},
   "outputs": [
    {
     "data": {
      "text/plain": [
       "1|200.1\n",
       "2|199.5\n",
       "3|199.4\n",
       "4|198.9\n",
       "5|199.0\n",
       "6|200.2\n",
       "7|NA\n",
       "8|NA\n",
       "9|200.3\n",
       "10|201.2\n",
       "11|NA\n",
       "12|202.9"
      ]
     },
     "metadata": {},
     "output_type": "display_data"
    }
   ],
   "source": [
    "showPair key (Just value) = show key ++ \"|\" ++ show value ++ \"\\n\"\n",
    "showPair key Nothing = show key ++ \"|\" ++ \"NA\" ++ \"\\n\"\n",
    "\n",
    "instance Show a => Show (TimeSeries a) where\n",
    "    show (TimeSeries keys values) = mconcat rows\n",
    "        where rows = zipWith showPair keys values\n",
    "        \n",
    "fileToTimeSeries file1"
   ]
  },
  {
   "cell_type": "code",
   "execution_count": 8,
   "metadata": {},
   "outputs": [
    {
     "data": {
      "text/plain": [
       "26|219.8\n",
       "27|220.5\n",
       "28|223.8\n",
       "29|222.8\n",
       "30|223.8\n",
       "31|221.7\n",
       "32|222.3\n",
       "33|220.8\n",
       "34|219.4\n",
       "35|220.1\n",
       "36|220.6"
      ]
     },
     "metadata": {},
     "output_type": "display_data"
    }
   ],
   "source": [
    "ts1 = fileToTimeSeries file1\n",
    "ts2 = fileToTimeSeries file2\n",
    "ts3 = fileToTimeSeries file3\n",
    "ts4 = fileToTimeSeries file4\n",
    "ts4"
   ]
  },
  {
   "cell_type": "code",
   "execution_count": 36,
   "metadata": {},
   "outputs": [],
   "source": [
    "insertMaybe :: Ord k => Map.Map k v -> (k, Maybe v) -> Map.Map k v\n",
    "insertMaybe m (_, Nothing) = m\n",
    "insertMaybe m (k, (Just val)) = Map.insert k val m"
   ]
  },
  {
   "cell_type": "code",
   "execution_count": 66,
   "metadata": {},
   "outputs": [
    {
     "data": {
      "text/plain": [
       "1|200.1\n",
       "2|199.5\n",
       "3|199.4\n",
       "4|198.9\n",
       "5|199.0\n",
       "6|200.2\n",
       "7|NA\n",
       "8|NA\n",
       "9|200.3\n",
       "10|201.2\n",
       "11|201.6\n",
       "12|201.5\n",
       "13|201.5\n",
       "14|203.5\n",
       "15|204.9\n",
       "16|207.1\n",
       "17|NA\n",
       "18|210.5\n",
       "19|NA\n",
       "20|208.8"
      ]
     },
     "metadata": {},
     "output_type": "display_data"
    }
   ],
   "source": [
    "-- mergeTimeSeries :: TimeSeries a -> TimeSeries a -> TimeSeries a\n",
    "mergeTimeSeries (TimeSeries ak av) (TimeSeries bk bv) = TimeSeries timeAxis result\n",
    "    where\n",
    "        fullAxis = ak ++ bk\n",
    "        timeAxis = [minimum fullAxis .. maximum fullAxis]\n",
    "        tmpMap = foldl insertMaybe Map.empty (zip ak av)\n",
    "        updatedMap = foldl insertMaybe tmpMap (zip bk bv)\n",
    "        result = [Map.lookup key updatedMap | key <- timeAxis]\n",
    "mergeTimeSeries ts1 ts2"
   ]
  },
  {
   "cell_type": "code",
   "execution_count": 69,
   "metadata": {},
   "outputs": [
    {
     "data": {
      "text/plain": [
       "1|200.1\n",
       "2|199.5\n",
       "3|199.4\n",
       "4|198.9\n",
       "5|199.0\n",
       "6|200.2\n",
       "7|NA\n",
       "8|NA\n",
       "9|200.3\n",
       "10|201.2\n",
       "11|201.6\n",
       "12|201.5\n",
       "13|201.5\n",
       "14|203.5\n",
       "15|204.9\n",
       "16|207.1\n",
       "17|210.5\n",
       "18|210.5\n",
       "19|NA\n",
       "20|208.8\n",
       "21|NA\n",
       "22|NA\n",
       "23|NA\n",
       "24|215.1\n",
       "25|218.7\n",
       "26|219.8\n",
       "27|220.5\n",
       "28|223.8\n",
       "29|222.8\n",
       "30|223.8\n",
       "31|221.7\n",
       "32|222.3\n",
       "33|220.8\n",
       "34|219.4\n",
       "35|220.1\n",
       "36|220.6"
      ]
     },
     "metadata": {},
     "output_type": "display_data"
    }
   ],
   "source": [
    "instance Semigroup (TimeSeries a) where\n",
    "    (<>) = mergeTimeSeries\n",
    "    \n",
    "ts1 <> ts2 <> ts3 <> ts4"
   ]
  },
  {
   "cell_type": "code",
   "execution_count": 75,
   "metadata": {},
   "outputs": [
    {
     "data": {
      "text/plain": [
       "1|200.1\n",
       "2|199.5\n",
       "3|199.4\n",
       "4|198.9\n",
       "5|199.0\n",
       "6|200.2\n",
       "7|NA\n",
       "8|NA\n",
       "9|200.3\n",
       "10|201.2\n",
       "11|201.6\n",
       "12|201.5\n",
       "13|201.5\n",
       "14|203.5\n",
       "15|204.9\n",
       "16|207.1\n",
       "17|210.5\n",
       "18|210.5\n",
       "19|NA\n",
       "20|208.8\n",
       "21|NA\n",
       "22|NA\n",
       "23|NA\n",
       "24|215.1\n",
       "25|218.7\n",
       "26|219.8\n",
       "27|220.5\n",
       "28|223.8\n",
       "29|222.8\n",
       "30|223.8\n",
       "31|221.7\n",
       "32|222.3\n",
       "33|220.8\n",
       "34|219.4\n",
       "35|220.1\n",
       "36|220.6"
      ]
     },
     "metadata": {},
     "output_type": "display_data"
    }
   ],
   "source": [
    "instance Monoid (TimeSeries a) where\n",
    "    mempty = TimeSeries [] []\n",
    "    \n",
    "tsAll = mconcat [ts1, ts2, ts3, ts4]\n",
    "tsAll"
   ]
  },
  {
   "cell_type": "code",
   "execution_count": 99,
   "metadata": {},
   "outputs": [
    {
     "data": {
      "text/plain": [
       "[Just 200.1,Just 199.5,Just 199.4,Just 198.9,Just 199.0,Just 200.2,Just 200.3,Just 201.2,Just 201.6,Just 201.5,Just 201.5,Just 203.5,Just 204.9,Just 207.1,Just 210.5,Just 210.5,Just 208.8,Just 215.1,Just 218.7,Just 219.8,Just 220.5,Just 223.8,Just 222.8,Just 223.8,Just 221.7,Just 222.3,Just 220.8,Just 219.4,Just 220.1,Just 220.6]"
      ]
     },
     "metadata": {},
     "output_type": "display_data"
    },
    {
     "data": {
      "text/html": [
       "<style>/* Styles used for the Hoogle display in the pager */\n",
       ".hoogle-doc {\n",
       "display: block;\n",
       "padding-bottom: 1.3em;\n",
       "padding-left: 0.4em;\n",
       "}\n",
       ".hoogle-code {\n",
       "display: block;\n",
       "font-family: monospace;\n",
       "white-space: pre;\n",
       "}\n",
       ".hoogle-text {\n",
       "display: block;\n",
       "}\n",
       ".hoogle-name {\n",
       "color: green;\n",
       "font-weight: bold;\n",
       "}\n",
       ".hoogle-head {\n",
       "font-weight: bold;\n",
       "}\n",
       ".hoogle-sub {\n",
       "display: block;\n",
       "margin-left: 0.4em;\n",
       "}\n",
       ".hoogle-package {\n",
       "font-weight: bold;\n",
       "font-style: italic;\n",
       "}\n",
       ".hoogle-module {\n",
       "font-weight: bold;\n",
       "}\n",
       ".hoogle-class {\n",
       "font-weight: bold;\n",
       "}\n",
       ".get-type {\n",
       "color: green;\n",
       "font-weight: bold;\n",
       "font-family: monospace;\n",
       "display: block;\n",
       "white-space: pre-wrap;\n",
       "}\n",
       ".show-type {\n",
       "color: green;\n",
       "font-weight: bold;\n",
       "font-family: monospace;\n",
       "margin-left: 1em;\n",
       "}\n",
       ".mono {\n",
       "font-family: monospace;\n",
       "display: block;\n",
       "}\n",
       ".err-msg {\n",
       "color: red;\n",
       "font-style: italic;\n",
       "font-family: monospace;\n",
       "white-space: pre;\n",
       "display: block;\n",
       "}\n",
       "#unshowable {\n",
       "color: red;\n",
       "font-weight: bold;\n",
       "}\n",
       ".err-msg.in.collapse {\n",
       "padding-top: 0.7em;\n",
       "}\n",
       ".highlight-code {\n",
       "white-space: pre;\n",
       "font-family: monospace;\n",
       "}\n",
       ".suggestion-warning { \n",
       "font-weight: bold;\n",
       "color: rgb(200, 130, 0);\n",
       "}\n",
       ".suggestion-error { \n",
       "font-weight: bold;\n",
       "color: red;\n",
       "}\n",
       ".suggestion-name {\n",
       "font-weight: bold;\n",
       "}\n",
       "</style><span class='get-type'>tsAll :: TimeSeries Double</span>"
      ],
      "text/plain": [
       "tsAll :: TimeSeries Double"
      ]
     },
     "metadata": {},
     "output_type": "display_data"
    }
   ],
   "source": [
    "-- justValues :: TimeSeries a -> [Maybe a]\n",
    "justValues (TimeSeries _ v) = filter (/=  Nothing) v\n",
    "\n",
    "values \n",
    "\n",
    "t = justValues tsAll\n",
    "t\n",
    "-- :t t\n",
    ":t tsAll"
   ]
  },
  {
   "cell_type": "code",
   "execution_count": 105,
   "metadata": {},
   "outputs": [
    {
     "data": {},
     "metadata": {},
     "output_type": "display_data"
    }
   ],
   "source": [
    ":i length"
   ]
  },
  {
   "cell_type": "code",
   "execution_count": 253,
   "metadata": {},
   "outputs": [
    {
     "data": {
      "text/plain": [
       "1.8"
      ]
     },
     "metadata": {},
     "output_type": "display_data"
    }
   ],
   "source": [
    "mean :: (Real a) => [a] -> Double\n",
    "mean xs = total / count\n",
    "    where total = (realToFrac . sum) xs\n",
    "          count = (realToFrac . length) xs\n",
    "\n",
    "mean [1.2, 1, 2, 3]\n"
   ]
  },
  {
   "cell_type": "code",
   "execution_count": 117,
   "metadata": {},
   "outputs": [],
   "source": [
    "cleanTs :: TimeSeries a -> [a]\n",
    "cleanTs (TimeSeries k v) = clean\n",
    "        where \n",
    "        just = filter isJust v\n",
    "        clean = map fromJust just"
   ]
  },
  {
   "cell_type": "code",
   "execution_count": 119,
   "metadata": {},
   "outputs": [
    {
     "data": {
      "text/plain": [
       "Nothing"
      ]
     },
     "metadata": {},
     "output_type": "display_data"
    },
    {
     "data": {
      "text/plain": [
       "Just 210.5966666666667"
      ]
     },
     "metadata": {},
     "output_type": "display_data"
    }
   ],
   "source": [
    "meanTs :: (Real a) => TimeSeries a -> Maybe Double\n",
    "meanTs x =   if length clean == 0 \n",
    "                            then Nothing\n",
    "                            else Just (mean clean)\n",
    "    where \n",
    "        clean = cleanTs x\n",
    "        \n",
    "meanTs (TimeSeries [1] [Nothing])\n",
    "meanTs tsAll"
   ]
  },
  {
   "cell_type": "code",
   "execution_count": 124,
   "metadata": {},
   "outputs": [
    {
     "data": {
      "text/plain": [
       "Just 223.8"
      ]
     },
     "metadata": {},
     "output_type": "display_data"
    },
    {
     "data": {
      "text/plain": [
       "Just 198.9"
      ]
     },
     "metadata": {},
     "output_type": "display_data"
    }
   ],
   "source": [
    "maxTs :: (Real a) => TimeSeries a -> Maybe a\n",
    "maxTs x =   if length clean == 0 \n",
    "            then Nothing\n",
    "            else Just (maximum clean)\n",
    "    where \n",
    "        clean = cleanTs x\n",
    "        \n",
    "minTs :: (Real a) => TimeSeries a -> Maybe a\n",
    "minTs x =   if length clean == 0 \n",
    "            then Nothing\n",
    "            else Just (minimum clean)\n",
    "    where \n",
    "        clean = cleanTs x\n",
    "\n",
    "maxTs tsAll\n",
    "minTs tsAll"
   ]
  },
  {
   "cell_type": "markdown",
   "metadata": {},
   "source": [
    "20.4 Transforming time series"
   ]
  },
  {
   "cell_type": "code",
   "execution_count": 131,
   "metadata": {},
   "outputs": [
    {
     "data": {
      "text/plain": [
       "Just (-1)"
      ]
     },
     "metadata": {},
     "output_type": "display_data"
    }
   ],
   "source": [
    "diffPair :: (Num a) => Maybe a -> Maybe a -> Maybe a\n",
    "diffPair Nothing _ = Nothing\n",
    "diffPair _ Nothing = Nothing\n",
    "diffPair (Just a) (Just b) = Just (a - b)\n",
    "\n",
    "diffPair (Just 2) (Just 3)"
   ]
  },
  {
   "cell_type": "code",
   "execution_count": null,
   "metadata": {},
   "outputs": [],
   "source": []
  },
  {
   "cell_type": "code",
   "execution_count": 139,
   "metadata": {},
   "outputs": [
    {
     "data": {
      "text/plain": [
       "Just 0.6076923076923071"
      ]
     },
     "metadata": {},
     "output_type": "display_data"
    }
   ],
   "source": [
    "\n",
    "diff :: Num a => TimeSeries a -> TimeSeries a\n",
    "diff (TimeSeries k v) = TimeSeries k d\n",
    "    where d = zipWith diffPair v (Nothing : v)\n",
    "\n",
    "meanTs (diff tsAll)"
   ]
  },
  {
   "cell_type": "code",
   "execution_count": 140,
   "metadata": {},
   "outputs": [
    {
     "ename": "",
     "evalue": "",
     "output_type": "error",
     "traceback": [
      "Maybe.fromJust: Nothing"
     ]
    }
   ],
   "source": [
    "fromJust Just"
   ]
  },
  {
   "cell_type": "code",
   "execution_count": 150,
   "metadata": {},
   "outputs": [
    {
     "data": {
      "text/html": [
       "<style>/* Styles used for the Hoogle display in the pager */\n",
       ".hoogle-doc {\n",
       "display: block;\n",
       "padding-bottom: 1.3em;\n",
       "padding-left: 0.4em;\n",
       "}\n",
       ".hoogle-code {\n",
       "display: block;\n",
       "font-family: monospace;\n",
       "white-space: pre;\n",
       "}\n",
       ".hoogle-text {\n",
       "display: block;\n",
       "}\n",
       ".hoogle-name {\n",
       "color: green;\n",
       "font-weight: bold;\n",
       "}\n",
       ".hoogle-head {\n",
       "font-weight: bold;\n",
       "}\n",
       ".hoogle-sub {\n",
       "display: block;\n",
       "margin-left: 0.4em;\n",
       "}\n",
       ".hoogle-package {\n",
       "font-weight: bold;\n",
       "font-style: italic;\n",
       "}\n",
       ".hoogle-module {\n",
       "font-weight: bold;\n",
       "}\n",
       ".hoogle-class {\n",
       "font-weight: bold;\n",
       "}\n",
       ".get-type {\n",
       "color: green;\n",
       "font-weight: bold;\n",
       "font-family: monospace;\n",
       "display: block;\n",
       "white-space: pre-wrap;\n",
       "}\n",
       ".show-type {\n",
       "color: green;\n",
       "font-weight: bold;\n",
       "font-family: monospace;\n",
       "margin-left: 1em;\n",
       "}\n",
       ".mono {\n",
       "font-family: monospace;\n",
       "display: block;\n",
       "}\n",
       ".err-msg {\n",
       "color: red;\n",
       "font-style: italic;\n",
       "font-family: monospace;\n",
       "white-space: pre;\n",
       "display: block;\n",
       "}\n",
       "#unshowable {\n",
       "color: red;\n",
       "font-weight: bold;\n",
       "}\n",
       ".err-msg.in.collapse {\n",
       "padding-top: 0.7em;\n",
       "}\n",
       ".highlight-code {\n",
       "white-space: pre;\n",
       "font-family: monospace;\n",
       "}\n",
       ".suggestion-warning { \n",
       "font-weight: bold;\n",
       "color: rgb(200, 130, 0);\n",
       "}\n",
       ".suggestion-error { \n",
       "font-weight: bold;\n",
       "color: red;\n",
       "}\n",
       ".suggestion-name {\n",
       "font-weight: bold;\n",
       "}\n",
       "</style><div class=\"suggestion-name\" style=\"clear:both;\">Redundant bracket</div><div class=\"suggestion-row\" style=\"float: left;\"><div class=\"suggestion-warning\">Found:</div><div class=\"highlight-code\" id=\"haskell\">[(Just 2), (Just 3), Nothing]</div></div><div class=\"suggestion-row\" style=\"float: left;\"><div class=\"suggestion-warning\">Why Not:</div><div class=\"highlight-code\" id=\"haskell\">[Just 2, (Just 3), Nothing]</div></div><div class=\"suggestion-name\" style=\"clear:both;\">Redundant bracket</div><div class=\"suggestion-row\" style=\"float: left;\"><div class=\"suggestion-warning\">Found:</div><div class=\"highlight-code\" id=\"haskell\">[(Just 2), (Just 3), Nothing]</div></div><div class=\"suggestion-row\" style=\"float: left;\"><div class=\"suggestion-warning\">Why Not:</div><div class=\"highlight-code\" id=\"haskell\">[(Just 2), Just 3, Nothing]</div></div>"
      ],
      "text/plain": [
       "Line 1: Redundant bracket\n",
       "Found:\n",
       "[(Just 2), (Just 3), Nothing]\n",
       "Why not:\n",
       "[Just 2, (Just 3), Nothing]Line 1: Redundant bracket\n",
       "Found:\n",
       "[(Just 2), (Just 3), Nothing]\n",
       "Why not:\n",
       "[(Just 2), Just 3, Nothing]"
      ]
     },
     "metadata": {},
     "output_type": "display_data"
    },
    {
     "data": {
      "text/plain": [
       "Nothing"
      ]
     },
     "metadata": {},
     "output_type": "display_data"
    }
   ],
   "source": [
    "meanMaybe :: (Real a) => [Maybe a] -> Maybe Double\n",
    "meanMaybe xs = if any (== Nothing) xs\n",
    "        then Nothing\n",
    "        else (Just avg)\n",
    "    where avg = mean(map fromJust xs)\n",
    "    \n",
    "meanMaybe [(Just 2), (Just 3), Nothing]"
   ]
  },
  {
   "cell_type": "code",
   "execution_count": 156,
   "metadata": {},
   "outputs": [
    {
     "data": {
      "text/plain": [
       "[Just 1.5,Just 2.5]"
      ]
     },
     "metadata": {},
     "output_type": "display_data"
    }
   ],
   "source": [
    "ma :: (Real a) => [Maybe a] -> Int -> [Maybe Double]\n",
    "ma [] n = []\n",
    "ma xs n = if length chunk == n\n",
    "    then meanMaybe chunk : ma (tail xs) n \n",
    "    else []\n",
    "    where chunk = take n xs\n",
    "    \n",
    "ma [Just 1, Just 2, Just 3] 2"
   ]
  },
  {
   "cell_type": "code",
   "execution_count": 166,
   "metadata": {},
   "outputs": [
    {
     "data": {
      "text/plain": [
       "1|NA\n",
       "2|199.8\n",
       "3|199.45\n",
       "4|199.15\n",
       "5|198.95\n",
       "6|199.6\n",
       "7|NA\n",
       "8|NA\n",
       "9|NA\n",
       "10|200.75\n",
       "11|201.39999999999998\n",
       "12|201.55\n",
       "13|201.5\n",
       "14|202.5\n",
       "15|204.2\n",
       "16|206.0\n",
       "17|208.8\n",
       "18|210.5\n",
       "19|NA\n",
       "20|NA\n",
       "21|NA\n",
       "22|NA\n",
       "23|NA\n",
       "24|NA\n",
       "25|216.89999999999998\n",
       "26|219.25\n",
       "27|220.15\n",
       "28|222.15\n",
       "29|223.3\n",
       "30|223.3\n",
       "31|222.75\n",
       "32|222.0\n",
       "33|221.55\n",
       "34|220.10000000000002\n",
       "35|219.75\n",
       "36|220.35"
      ]
     },
     "metadata": {},
     "output_type": "display_data"
    }
   ],
   "source": [
    "maTS :: (Real a) => TimeSeries a -> Int -> TimeSeries Double\n",
    "maTS (TimeSeries k v) n = TimeSeries k avg\n",
    "    where\n",
    "    pad = replicate (n `div` 2) Nothing\n",
    "    avg = mconcat [pad, ma v n, pad]\n",
    "    \n",
    "maTS tsAll 2"
   ]
  },
  {
   "cell_type": "markdown",
   "metadata": {},
   "source": [
    " Use the median rather than the mean for smoothing."
   ]
  },
  {
   "cell_type": "code",
   "execution_count": 230,
   "metadata": {},
   "outputs": [
    {
     "data": {
      "text/plain": [
       "Just 2.5"
      ]
     },
     "metadata": {},
     "output_type": "display_data"
    }
   ],
   "source": [
    "median :: (Real a) => [Maybe a] -> Maybe Double\n",
    "median xs = if (length sorted) == 0\n",
    "            then Nothing\n",
    "            else if odd (length sorted)\n",
    "            then meanMaybe [highVal]\n",
    "            else meanMaybe [lowVal, highVal]\n",
    "    where \n",
    "    just = filter isJust xs\n",
    "    sorted = sort just\n",
    "    halfLen = (length sorted) `div` 2\n",
    "    lowVal = sorted !! (halfLen-1)\n",
    "    highVal = sorted !! (halfLen)\n",
    "    \n",
    "median [Just 2, Just 3, Nothing]"
   ]
  },
  {
   "cell_type": "code",
   "execution_count": 233,
   "metadata": {},
   "outputs": [
    {
     "data": {
      "text/plain": [
       "[Just 1.5,Just 2.5,Just 3.5,Just 4.0,Nothing]"
      ]
     },
     "metadata": {},
     "output_type": "display_data"
    },
    {
     "data": {
      "text/plain": [
       "1|NA\n",
       "2|NA\n",
       "3|199.4\n",
       "4|199.4\n",
       "5|199.2\n",
       "6|199.0\n",
       "7|200.2\n",
       "8|200.3\n",
       "9|201.2\n",
       "10|201.35\n",
       "11|201.5\n",
       "12|201.5\n",
       "13|201.6\n",
       "14|203.5\n",
       "15|204.9\n",
       "16|207.1\n",
       "17|208.8\n",
       "18|209.65\n",
       "19|210.5\n",
       "20|209.65\n",
       "21|208.8\n",
       "22|211.95\n",
       "23|216.89999999999998\n",
       "24|218.7\n",
       "25|219.25\n",
       "26|219.8\n",
       "27|220.5\n",
       "28|222.8\n",
       "29|222.8\n",
       "30|222.8\n",
       "31|222.3\n",
       "32|221.7\n",
       "33|220.8\n",
       "34|220.6\n",
       "35|NA\n",
       "36|NA"
      ]
     },
     "metadata": {},
     "output_type": "display_data"
    }
   ],
   "source": [
    "ma :: (Real a) => [Maybe a] -> Int -> [Maybe Double]\n",
    "ma [] n = []\n",
    "ma xs n = if length chunk == n\n",
    "    then median chunk : ma (tail xs) n \n",
    "    else []\n",
    "    where chunk = take n xs\n",
    "    \n",
    "ma [Just 1, Just 2, Just 3, Just 4, Nothing, Nothing] 2\n",
    "\n",
    "maTS :: (Real a) => TimeSeries a -> Int -> TimeSeries Double\n",
    "maTS (TimeSeries k v) n = TimeSeries k avg\n",
    "    where\n",
    "    pad = replicate (n `div` 2) Nothing\n",
    "    avg = mconcat [pad, ma v n, pad]\n",
    "    \n",
    "maTS tsAll 5\n"
   ]
  },
  {
   "cell_type": "markdown",
   "metadata": {},
   "source": [
    " Create a function that calculates the div rather than the diff of data, capturing the percent change."
   ]
  },
  {
   "cell_type": "code",
   "execution_count": null,
   "metadata": {},
   "outputs": [],
   "source": []
  },
  {
   "cell_type": "markdown",
   "metadata": {},
   "source": [
    "Implement a function for calculating the standard deviation of a TS type."
   ]
  },
  {
   "cell_type": "code",
   "execution_count": 265,
   "metadata": {},
   "outputs": [
    {
     "data": {
      "text/plain": [
       "9.605403771273513"
      ]
     },
     "metadata": {},
     "output_type": "display_data"
    }
   ],
   "source": [
    "-- std :: TimeSeries Double -> Double\n",
    "std (TimeSeries k v) = dd\n",
    "    where\n",
    "        just = filter isJust v\n",
    "        clean = map fromJust just\n",
    "        avg = mean clean\n",
    "        len = genericLength clean\n",
    "        meanDiff = map (\\x -> x - avg) clean\n",
    "        upper = sum [(c - avg)^2 | c <- clean]\n",
    "        dd = sqrt (upper / (len-1))\n",
    "    \n",
    "std tsAll"
   ]
  },
  {
   "cell_type": "markdown",
   "metadata": {},
   "source": [
    "If you still want more, the next most useful task is to add and subtract time series from\n",
    "each other. For each point in the timeline that two TS types have in common, you add or\n",
    "subtract the values as necessary."
   ]
  },
  {
   "cell_type": "code",
   "execution_count": 274,
   "metadata": {},
   "outputs": [
    {
     "data": {
      "text/plain": [
       "Just (-2)"
      ]
     },
     "metadata": {},
     "output_type": "display_data"
    }
   ],
   "source": [
    "subb :: Num a=>Maybe a -> Maybe a -> Maybe a\n",
    "subb _ Nothing = Nothing\n",
    "subb Nothing _ = Nothing\n",
    "subb (Just a) (Just b) = Just (a - b)\n"
   ]
  },
  {
   "cell_type": "code",
   "execution_count": null,
   "metadata": {},
   "outputs": [],
   "source": [
    "subTs (TimeSeries k)"
   ]
  }
 ],
 "metadata": {
  "kernelspec": {
   "display_name": "Haskell",
   "language": "haskell",
   "name": "haskell"
  },
  "language_info": {
   "codemirror_mode": "ihaskell",
   "file_extension": ".hs",
   "name": "haskell",
   "pygments_lexer": "Haskell",
   "version": "8.6.4"
  }
 },
 "nbformat": 4,
 "nbformat_minor": 2
}
