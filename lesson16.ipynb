{
 "cells": [
  {
   "cell_type": "code",
   "execution_count": 3,
   "metadata": {},
   "outputs": [
    {
     "data": {
      "text/plain": [
       "AuthorName {first = \"Vadis\", last = \"Slaav\"}"
      ]
     },
     "metadata": {},
     "output_type": "display_data"
    }
   ],
   "source": [
    "data AuthorName = AuthorName {\n",
    "    first :: String,\n",
    "    last :: String} deriving Show\n",
    "AuthorName \"Vadis\" \"Slaav\""
   ]
  },
  {
   "cell_type": "code",
   "execution_count": 7,
   "metadata": {},
   "outputs": [],
   "source": [
    "data Creator = AuthorCreator Author | ArtistCreator Artist\n",
    "\n",
    "type FirstName = String\n",
    "type LastName = String\n",
    "type MiddleName = String\n",
    "data Name = Name FirstName LastName\n",
    "        | NameWithMiddle FirstName MiddleName LastName\n",
    "        | TwoInitialsWithLast Char Char LastName\n",
    "\n",
    "data Author = Author Name\n",
    "data Artist = Person Name | Band String\n",
    "\n"
   ]
  },
  {
   "cell_type": "code",
   "execution_count": 8,
   "metadata": {},
   "outputs": [],
   "source": [
    "hpLovecraft :: Creator\n",
    "hpLovecraft = AuthorCreator (Author (TwoInitialsWithLast 'H' 'P' \"Lovecraft\"))"
   ]
  },
  {
   "cell_type": "code",
   "execution_count": 11,
   "metadata": {},
   "outputs": [],
   "source": [
    "data Book = Book {\n",
    "        author :: Creator, \n",
    "        isbn :: String,\n",
    "        bookTitle :: String,\n",
    "        bookYear :: Int,\n",
    "        bookPrice :: Double\n",
    "    }"
   ]
  },
  {
   "cell_type": "code",
   "execution_count": 12,
   "metadata": {},
   "outputs": [
    {
     "ename": "",
     "evalue": "",
     "output_type": "error",
     "traceback": [
      "<interactive>:1:11: error: Not in scope: type constructor or class ‘StoreItem’"
     ]
    }
   ],
   "source": [
    "madeBy :: StoreItem -> String\n",
    "madeBy x = show au"
   ]
  },
  {
   "cell_type": "markdown",
   "metadata": {},
   "source": [
    "# Q16.2"
   ]
  },
  {
   "cell_type": "code",
   "execution_count": 76,
   "metadata": {},
   "outputs": [],
   "source": [
    "data Shape = Circle {radius :: Double} |\n",
    "             Square {side :: Double} |\n",
    "             Rectangle {width :: Double, length :: Double} deriving Show\n",
    "\n",
    "area :: Shape -> Double\n",
    "area  (Circle radius) = pi * radius ^ 2\n",
    "area (Square side) = side * side\n",
    "area (Rectangle w l) = w * l"
   ]
  },
  {
   "cell_type": "code",
   "execution_count": 80,
   "metadata": {},
   "outputs": [
    {
     "data": {
      "text/plain": [
       "0.7853981633974483"
      ]
     },
     "metadata": {},
     "output_type": "display_data"
    },
    {
     "data": {
      "text/plain": [
       "0.25"
      ]
     },
     "metadata": {},
     "output_type": "display_data"
    },
    {
     "data": {
      "text/plain": [
       "0.25"
      ]
     },
     "metadata": {},
     "output_type": "display_data"
    }
   ],
   "source": [
    "area (Circle 0.5)\n",
    "area (Square 0.5)\n",
    "area (Rectangle 0.5 0.5)"
   ]
  }
 ],
 "metadata": {
  "kernelspec": {
   "display_name": "Haskell",
   "language": "haskell",
   "name": "haskell"
  },
  "language_info": {
   "codemirror_mode": "ihaskell",
   "file_extension": ".hs",
   "name": "haskell",
   "pygments_lexer": "Haskell",
   "version": "8.6.4"
  }
 },
 "nbformat": 4,
 "nbformat_minor": 2
}
