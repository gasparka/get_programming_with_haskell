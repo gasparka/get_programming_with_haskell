{
 "cells": [
  {
   "cell_type": "markdown",
   "metadata": {},
   "source": [
    "# Cups"
   ]
  },
  {
   "cell_type": "code",
   "execution_count": 47,
   "metadata": {},
   "outputs": [],
   "source": [
    "cup size = (\\message -> message size)\n",
    "\n",
    "getSize aCup = aCup (\\x -> x)\n",
    "drink aCup amount = if new_size >= 0\n",
    "    then cup new_size\n",
    "    else cup 0\n",
    "    where \n",
    "    current_size = getSize aCup\n",
    "    new_size = current_size - amount\n",
    "    \n",
    "isEmpty aCup = getSize aCup == 0"
   ]
  },
  {
   "cell_type": "code",
   "execution_count": 48,
   "metadata": {},
   "outputs": [],
   "source": [
    "aC = cup 6"
   ]
  },
  {
   "cell_type": "code",
   "execution_count": 49,
   "metadata": {},
   "outputs": [
    {
     "data": {
      "text/plain": [
       "6"
      ]
     },
     "metadata": {},
     "output_type": "display_data"
    }
   ],
   "source": [
    "getSize aC"
   ]
  },
  {
   "cell_type": "code",
   "execution_count": 51,
   "metadata": {},
   "outputs": [
    {
     "data": {
      "text/plain": [
       "0"
      ]
     },
     "metadata": {},
     "output_type": "display_data"
    }
   ],
   "source": [
    "new = drink aC 15\n",
    "getSize new"
   ]
  },
  {
   "cell_type": "code",
   "execution_count": 53,
   "metadata": {},
   "outputs": [
    {
     "data": {
      "text/plain": [
       "True"
      ]
     },
     "metadata": {},
     "output_type": "display_data"
    }
   ],
   "source": [
    "isEmpty new"
   ]
  },
  {
   "cell_type": "code",
   "execution_count": 56,
   "metadata": {},
   "outputs": [
    {
     "data": {
      "text/plain": [
       "3"
      ]
     },
     "metadata": {},
     "output_type": "display_data"
    }
   ],
   "source": [
    "manySips = foldl drink aC [1,1,1]\n",
    "getSize manySips"
   ]
  },
  {
   "cell_type": "markdown",
   "metadata": {},
   "source": [
    "# Robots"
   ]
  },
  {
   "cell_type": "code",
   "execution_count": 91,
   "metadata": {},
   "outputs": [
    {
     "ename": "",
     "evalue": "",
     "output_type": "error",
     "traceback": [
      "<interactive>:17:23: error:\n    • Occurs check: cannot construct the infinite type: b ~ ((a, b, t) -> t1) -> t1\n      Expected type: ((a, ((a, b, t) -> t1) -> t1, t) -> ((a, b, t) -> t1) -> t1) -> c\n        Actual type: ((a, b, t) -> ((a, b, t) -> t1) -> t1) -> c\n    • In the first argument of ‘fight’, namely ‘robotA’\n      In the expression: fight robotA robotB\n      In an equation for ‘robAFinal’: robAFinal = fight robotA robotB\n    • Relevant bindings include\n        robAFinal :: t (bound at <interactive>:17:5)\n        robotB :: ((a1, ((a1, b1, c) -> t2) -> t2, c) -> ((a1, b1, c) -> t2) -> t2) -> t (bound at <interactive>:15:24)\n        robotA :: ((a, b, t) -> ((a, b, t) -> t1) -> t1) -> c (bound at <interactive>:15:17)\n        threeRoundFight :: (((a, b, t) -> ((a, b, t) -> t1) -> t1) -> c) -> (((a1, ((a1, b1, c) -> t2) -> t2, c) -> ((a1, b1, c) -> t2) -> t2) -> t) -> c (bound at <interactive>:15:1)\n<interactive>:17:30: error:\n    • Occurs check: cannot construct the infinite type: b1 ~ ((a1, b1, c) -> t2) -> t2\n      Expected type: ((a1, b1, c) -> ((a1, b1, c) -> t2) -> t2) -> t\n        Actual type: ((a1, ((a1, b1, c) -> t2) -> t2, c) -> ((a1, b1, c) -> t2) -> t2) -> t\n    • In the second argument of ‘fight’, namely ‘robotB’\n      In the expression: fight robotA robotB\n      In an equation for ‘robAFinal’: robAFinal = fight robotA robotB\n    • Relevant bindings include\n        robBFinal :: c (bound at <interactive>:18:5)\n        robotB :: ((a1, ((a1, b1, c) -> t2) -> t2, c) -> ((a1, b1, c) -> t2) -> t2) -> t (bound at <interactive>:15:24)\n        robotA :: ((a, b, t) -> ((a, b, t) -> t1) -> t1) -> c (bound at <interactive>:15:17)\n        threeRoundFight :: (((a, b, t) -> ((a, b, t) -> t1) -> t1) -> c) -> (((a1, ((a1, b1, c) -> t2) -> t2, c) -> ((a1, b1, c) -> t2) -> t2) -> t) -> c (bound at <interactive>:15:1)"
     ]
    }
   ],
   "source": [
    "robot (name, attack, hp) = \\message -> message (name, attack, hp)\n",
    "name (n,_,_) = n\n",
    "attack (_,a,_) = a\n",
    "hp (_,_,h) = h\n",
    "\n",
    "getName aRobot = aRobot name\n",
    "getAttack aRobot = aRobot attack\n",
    "getHP aRobot = aRobot hp\n",
    "\n",
    "setName aRobot newName = robot (newName, getAttack aRobot, getHP aRobot)\n",
    "setAttack aRobot newAttack = robot (getName aRobot, newAttack, getHP aRobot)\n",
    "setHP aRobot newHP = robot (getName aRobot, getAttack aRobot, newHP)\n",
    "\n",
    "printRobot aRobot = aRobot (\\(n, a, h) -> n ++ \" attack:\" ++ (show a) ++ \" hp:\" ++ (show h))\n",
    "\n",
    "damage aRobot attackDamage = aRobot (\\(n, a, h) -> robot (n, a, h - attackDamage))\n",
    "\n",
    "fight attacker defender = damage defender attack\n",
    "    where attack = getAttack attacker\n",
    "    \n",
    "\n",
    "-- threeRoundFight robotA robotB = if (getHP robAFinal) > (getHP robBFinal)\n",
    "--             then robAFinal\n",
    "--             else robBFinal\n",
    "--     where\n",
    "--     robAFinal = fight robotA robotB\n",
    "--     robBFinal = fight robotB robotA\n",
    "\n",
    "-- ?? This gives errors :( i am lost!\n",
    "-- threeRoundFight robotA robotB = robBFinal\n",
    "--     where\n",
    "--     robAFinal = fight robotA robotB\n",
    "--     robBFinal = fight robotB robotA\n",
    "    \n",
    "    "
   ]
  },
  {
   "cell_type": "code",
   "execution_count": 71,
   "metadata": {},
   "outputs": [
    {
     "data": {
      "text/plain": [
       "\"killerDog\""
      ]
     },
     "metadata": {},
     "output_type": "display_data"
    }
   ],
   "source": [
    "killerDog = robot(\"killerDog\", 13, 100)\n",
    "getName killerDog"
   ]
  },
  {
   "cell_type": "code",
   "execution_count": 75,
   "metadata": {},
   "outputs": [
    {
     "data": {
      "text/plain": [
       "\"Neena attack:13 hp:85\""
      ]
     },
     "metadata": {},
     "output_type": "display_data"
    }
   ],
   "source": [
    "neena = setName killerDog \"Neena\"\n",
    "neenab = damage neena 15\n",
    "printRobot neenab"
   ]
  },
  {
   "cell_type": "code",
   "execution_count": 77,
   "metadata": {},
   "outputs": [],
   "source": [
    "afterAttack = fight neena killerDog"
   ]
  },
  {
   "cell_type": "code",
   "execution_count": 78,
   "metadata": {},
   "outputs": [
    {
     "data": {
      "text/plain": [
       "\"killerDog attack:13 hp:87\""
      ]
     },
     "metadata": {},
     "output_type": "display_data"
    }
   ],
   "source": [
    "printRobot afterAttack"
   ]
  },
  {
   "cell_type": "code",
   "execution_count": 79,
   "metadata": {},
   "outputs": [
    {
     "data": {
      "text/plain": [
       "[100,100]"
      ]
     },
     "metadata": {},
     "output_type": "display_data"
    }
   ],
   "source": [
    "map getHP [neena, killerDog]"
   ]
  },
  {
   "cell_type": "code",
   "execution_count": 93,
   "metadata": {},
   "outputs": [],
   "source": [
    "fastRobot = robot (\"speedy\", 15, 40)\n",
    "slowRobot = robot (\"slowpoke\",20,30)\n",
    "fastRobotRound1 = fight slowRobot fastRobot\n",
    "slowRobotRound1 = fight fastRobot slowRobot"
   ]
  },
  {
   "cell_type": "markdown",
   "metadata": {},
   "source": [
    "# Q9.1"
   ]
  },
  {
   "cell_type": "code",
   "execution_count": 94,
   "metadata": {},
   "outputs": [
    {
     "data": {
      "text/plain": [
       "[100,100]"
      ]
     },
     "metadata": {},
     "output_type": "display_data"
    }
   ],
   "source": [
    "map getHP [neena, killerDog]"
   ]
  },
  {
   "cell_type": "markdown",
   "metadata": {},
   "source": [
    "# Q9.2"
   ]
  },
  {
   "cell_type": "code",
   "execution_count": 49,
   "metadata": {},
   "outputs": [
    {
     "data": {
      "text/plain": [
       "True"
      ]
     },
     "metadata": {},
     "output_type": "display_data"
    }
   ],
   "source": [
    "-- ?? This gives errors :( i am lost!\n",
    "-- threeRoundFight robotA robotB = robBFinal\n",
    "--     where\n",
    "--     robAFinal = fight robotA robotB\n",
    "--     robBFinal = fight robotB robotA"
   ]
  },
  {
   "cell_type": "markdown",
   "metadata": {},
   "source": [
    "# Q9.3"
   ]
  },
  {
   "cell_type": "code",
   "execution_count": 96,
   "metadata": {},
   "outputs": [],
   "source": [
    "robs = [neena, killerDog, fastRobot]\n",
    "fightSlow = fight slowRobot"
   ]
  },
  {
   "cell_type": "code",
   "execution_count": 97,
   "metadata": {},
   "outputs": [],
   "source": [
    "fightResults = map fightSlow robs"
   ]
  },
  {
   "cell_type": "code",
   "execution_count": 98,
   "metadata": {},
   "outputs": [
    {
     "data": {
      "text/plain": [
       "[80,80,20]"
      ]
     },
     "metadata": {},
     "output_type": "display_data"
    }
   ],
   "source": [
    "map getHP fightResults"
   ]
  }
 ],
 "metadata": {
  "kernelspec": {
   "display_name": "Haskell",
   "language": "haskell",
   "name": "haskell"
  },
  "language_info": {
   "codemirror_mode": "ihaskell",
   "file_extension": ".hs",
   "name": "haskell",
   "pygments_lexer": "Haskell",
   "version": "8.6.4"
  }
 },
 "nbformat": 4,
 "nbformat_minor": 2
}
