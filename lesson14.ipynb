{
 "cells": [
  {
   "cell_type": "code",
   "execution_count": 2,
   "metadata": {},
   "outputs": [
    {
     "data": {
      "text/plain": [
       "S1"
      ]
     },
     "metadata": {},
     "output_type": "display_data"
    }
   ],
   "source": [
    "data SixSidedDie = S1|S2|S3|S4|S5|S6 deriving (Show)\n",
    "S1\n",
    "instance Show SixSidedDie where\n",
    "    show S1 = \"one\"\n",
    "    show S2 = \"two\"\n",
    "    show S3 = \"three\"\n",
    "    show S4 = \"four\"\n",
    "    show S5 = \"five\"\n",
    "    show S6 = \"six\""
   ]
  },
  {
   "cell_type": "code",
   "execution_count": 3,
   "metadata": {},
   "outputs": [
    {
     "data": {
      "text/plain": [
       "one"
      ]
     },
     "metadata": {},
     "output_type": "display_data"
    }
   ],
   "source": [
    "data SixSidedDie = S1|S2|S3|S4|S5|S6\n",
    "instance Show SixSidedDie where\n",
    "    show S1 = \"one\"\n",
    "    show S2 = \"two\"\n",
    "    show S3 = \"three\"\n",
    "    show S4 = \"four\"\n",
    "    show S5 = \"five\"\n",
    "    show S6 = \"six\"\n",
    "\n",
    "S1\n"
   ]
  },
  {
   "cell_type": "code",
   "execution_count": 4,
   "metadata": {},
   "outputs": [
    {
     "data": {
      "text/plain": [
       "False"
      ]
     },
     "metadata": {},
     "output_type": "display_data"
    }
   ],
   "source": [
    "instance Eq SixSidedDie where\n",
    "(==) S6 S6 = True\n",
    "(==) S5 S5 = True\n",
    "(==) S4 S4 = True\n",
    "(==) S3 S3 = True\n",
    "(==) S2 S2 = True\n",
    "(==) S1 S1 = True\n",
    "(==) _ _ = False\n",
    "S1 == S2"
   ]
  },
  {
   "cell_type": "code",
   "execution_count": null,
   "metadata": {},
   "outputs": [],
   "source": [
    "S1 == S1"
   ]
  },
  {
   "cell_type": "code",
   "execution_count": 1,
   "metadata": {},
   "outputs": [
    {
     "ename": "",
     "evalue": "",
     "output_type": "error",
     "traceback": [
      "<interactive>:1:1: error: Data constructor not in scope: S1 :: ()\n<interactive>:1:7: error: Data constructor not in scope: S2 :: ()"
     ]
    }
   ],
   "source": [
    "-- mingi jama...stuck forever!\n",
    "S1 /= S2"
   ]
  },
  {
   "cell_type": "code",
   "execution_count": 5,
   "metadata": {},
   "outputs": [],
   "source": [
    "data SixSidedDie = S1|S2|S3|S4|S5|S6 deriving (Eq, Ord)"
   ]
  },
  {
   "cell_type": "code",
   "execution_count": 9,
   "metadata": {},
   "outputs": [
    {
     "data": {
      "text/plain": [
       "False"
      ]
     },
     "metadata": {},
     "output_type": "display_data"
    }
   ],
   "source": [
    "S1 /= S1"
   ]
  },
  {
   "cell_type": "code",
   "execution_count": 15,
   "metadata": {},
   "outputs": [
    {
     "data": {
      "text/plain": [
       "[(\"Emil\",\"Cioran\"),(\"Eugene\",\"Thacker\"),(\"AFriedrich\",\"Nietzsche\")]"
      ]
     },
     "metadata": {},
     "output_type": "display_data"
    }
   ],
   "source": [
    "type Name = (String,String)\n",
    "\n",
    "names :: [Name]\n",
    "names = [ (\"Emil\",\"Cioran\")\n",
    "    , (\"Eugene\",\"Thacker\")\n",
    "    , (\"AFriedrich\",\"Nietzsche\")]\n",
    "names"
   ]
  },
  {
   "cell_type": "code",
   "execution_count": 16,
   "metadata": {},
   "outputs": [
    {
     "data": {
      "text/plain": [
       "[(\"AFriedrich\",\"Nietzsche\"),(\"Emil\",\"Cioran\"),(\"Eugene\",\"Thacker\")]"
      ]
     },
     "metadata": {},
     "output_type": "display_data"
    }
   ],
   "source": [
    "import Data.List\n",
    "sort names"
   ]
  },
  {
   "cell_type": "code",
   "execution_count": 22,
   "metadata": {},
   "outputs": [],
   "source": [
    "newtype Name = Name (String,String) deriving (Show, Eq)\n",
    "instance Ord Name where\n",
    "    compare (Name (f1, l1)) (Name (f2, l2)) = compare (l1, f1) (l2, f2)"
   ]
  },
  {
   "cell_type": "code",
   "execution_count": 24,
   "metadata": {},
   "outputs": [
    {
     "data": {
      "text/plain": [
       "[Name (\"Emil\",\"Cioran\"),Name (\"Eugene\",\"Thacker\"),Name (\"AFriedrich\",\"Nietzsche\")]"
      ]
     },
     "metadata": {},
     "output_type": "display_data"
    }
   ],
   "source": [
    "names :: [Name]\n",
    "names = [ Name (\"Emil\",\"Cioran\")\n",
    "    , Name (\"Eugene\",\"Thacker\")\n",
    "    , Name (\"AFriedrich\",\"Nietzsche\")]\n",
    "names"
   ]
  },
  {
   "cell_type": "code",
   "execution_count": 25,
   "metadata": {},
   "outputs": [
    {
     "data": {
      "text/plain": [
       "[Name (\"Emil\",\"Cioran\"),Name (\"AFriedrich\",\"Nietzsche\"),Name (\"Eugene\",\"Thacker\")]"
      ]
     },
     "metadata": {},
     "output_type": "display_data"
    }
   ],
   "source": [
    "sort names"
   ]
  },
  {
   "cell_type": "markdown",
   "metadata": {},
   "source": [
    "# Q 14.2"
   ]
  },
  {
   "cell_type": "code",
   "execution_count": 41,
   "metadata": {},
   "outputs": [
    {
     "data": {
      "text/plain": [
       "5"
      ]
     },
     "metadata": {},
     "output_type": "display_data"
    }
   ],
   "source": [
    "class Die a where\n",
    "    maxSides :: a -> Int\n",
    "\n",
    "data FiveSidedDie = S1 | S2 | S3 | S4 | S5 deriving (Eq, Ord, Show)\n",
    "\n",
    "instance  Die FiveSidedDie  where\n",
    "    maxSides =  (\\x -> 5)\n",
    "maxSides S1"
   ]
  },
  {
   "cell_type": "code",
   "execution_count": null,
   "metadata": {},
   "outputs": [],
   "source": []
  }
 ],
 "metadata": {
  "kernelspec": {
   "display_name": "Haskell",
   "language": "haskell",
   "name": "haskell"
  },
  "language_info": {
   "codemirror_mode": "ihaskell",
   "file_extension": ".hs",
   "name": "haskell",
   "pygments_lexer": "Haskell",
   "version": "8.6.4"
  }
 },
 "nbformat": 4,
 "nbformat_minor": 2
}
