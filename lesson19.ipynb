{
 "cells": [
  {
   "cell_type": "code",
   "execution_count": 1,
   "metadata": {},
   "outputs": [],
   "source": [
    "import qualified Data.Map as Map\n",
    "data Organ = Heart | Brain | Kidney | Spleen deriving (Show, Eq)\n",
    "organs :: [Organ]\n",
    "organs = [Heart,Heart,Brain,Spleen,Spleen,Kidney]\n",
    "ids :: [Int]\n",
    "ids = [2,7,13,14,21,24]\n",
    "organPairs :: [(Int,Organ)]\n",
    "organPairs = zip ids organs\n",
    "organCatalog :: Map.Map Int Organ\n",
    "organCatalog = Map.fromList organPairs"
   ]
  },
  {
   "cell_type": "code",
   "execution_count": 2,
   "metadata": {},
   "outputs": [
    {
     "data": {},
     "metadata": {},
     "output_type": "display_data"
    }
   ],
   "source": [
    ":i Maybe"
   ]
  },
  {
   "cell_type": "code",
   "execution_count": 3,
   "metadata": {},
   "outputs": [
    {
     "data": {
      "text/html": [
       "<style>/* Styles used for the Hoogle display in the pager */\n",
       ".hoogle-doc {\n",
       "display: block;\n",
       "padding-bottom: 1.3em;\n",
       "padding-left: 0.4em;\n",
       "}\n",
       ".hoogle-code {\n",
       "display: block;\n",
       "font-family: monospace;\n",
       "white-space: pre;\n",
       "}\n",
       ".hoogle-text {\n",
       "display: block;\n",
       "}\n",
       ".hoogle-name {\n",
       "color: green;\n",
       "font-weight: bold;\n",
       "}\n",
       ".hoogle-head {\n",
       "font-weight: bold;\n",
       "}\n",
       ".hoogle-sub {\n",
       "display: block;\n",
       "margin-left: 0.4em;\n",
       "}\n",
       ".hoogle-package {\n",
       "font-weight: bold;\n",
       "font-style: italic;\n",
       "}\n",
       ".hoogle-module {\n",
       "font-weight: bold;\n",
       "}\n",
       ".hoogle-class {\n",
       "font-weight: bold;\n",
       "}\n",
       ".get-type {\n",
       "color: green;\n",
       "font-weight: bold;\n",
       "font-family: monospace;\n",
       "display: block;\n",
       "white-space: pre-wrap;\n",
       "}\n",
       ".show-type {\n",
       "color: green;\n",
       "font-weight: bold;\n",
       "font-family: monospace;\n",
       "margin-left: 1em;\n",
       "}\n",
       ".mono {\n",
       "font-family: monospace;\n",
       "display: block;\n",
       "}\n",
       ".err-msg {\n",
       "color: red;\n",
       "font-style: italic;\n",
       "font-family: monospace;\n",
       "white-space: pre;\n",
       "display: block;\n",
       "}\n",
       "#unshowable {\n",
       "color: red;\n",
       "font-weight: bold;\n",
       "}\n",
       ".err-msg.in.collapse {\n",
       "padding-top: 0.7em;\n",
       "}\n",
       ".highlight-code {\n",
       "white-space: pre;\n",
       "font-family: monospace;\n",
       "}\n",
       ".suggestion-warning { \n",
       "font-weight: bold;\n",
       "color: rgb(200, 130, 0);\n",
       "}\n",
       ".suggestion-error { \n",
       "font-weight: bold;\n",
       "color: red;\n",
       "}\n",
       ".suggestion-name {\n",
       "font-weight: bold;\n",
       "}\n",
       "</style><span class='get-type'>Map.lookup 13 organCatalog :: Maybe Organ</span>"
      ],
      "text/plain": [
       "Map.lookup 13 organCatalog :: Maybe Organ"
      ]
     },
     "metadata": {},
     "output_type": "display_data"
    }
   ],
   "source": [
    ":t Map.lookup 13 organCatalog"
   ]
  },
  {
   "cell_type": "code",
   "execution_count": 5,
   "metadata": {},
   "outputs": [
    {
     "data": {
      "text/html": [
       "<style>/* Styles used for the Hoogle display in the pager */\n",
       ".hoogle-doc {\n",
       "display: block;\n",
       "padding-bottom: 1.3em;\n",
       "padding-left: 0.4em;\n",
       "}\n",
       ".hoogle-code {\n",
       "display: block;\n",
       "font-family: monospace;\n",
       "white-space: pre;\n",
       "}\n",
       ".hoogle-text {\n",
       "display: block;\n",
       "}\n",
       ".hoogle-name {\n",
       "color: green;\n",
       "font-weight: bold;\n",
       "}\n",
       ".hoogle-head {\n",
       "font-weight: bold;\n",
       "}\n",
       ".hoogle-sub {\n",
       "display: block;\n",
       "margin-left: 0.4em;\n",
       "}\n",
       ".hoogle-package {\n",
       "font-weight: bold;\n",
       "font-style: italic;\n",
       "}\n",
       ".hoogle-module {\n",
       "font-weight: bold;\n",
       "}\n",
       ".hoogle-class {\n",
       "font-weight: bold;\n",
       "}\n",
       ".get-type {\n",
       "color: green;\n",
       "font-weight: bold;\n",
       "font-family: monospace;\n",
       "display: block;\n",
       "white-space: pre-wrap;\n",
       "}\n",
       ".show-type {\n",
       "color: green;\n",
       "font-weight: bold;\n",
       "font-family: monospace;\n",
       "margin-left: 1em;\n",
       "}\n",
       ".mono {\n",
       "font-family: monospace;\n",
       "display: block;\n",
       "}\n",
       ".err-msg {\n",
       "color: red;\n",
       "font-style: italic;\n",
       "font-family: monospace;\n",
       "white-space: pre;\n",
       "display: block;\n",
       "}\n",
       "#unshowable {\n",
       "color: red;\n",
       "font-weight: bold;\n",
       "}\n",
       ".err-msg.in.collapse {\n",
       "padding-top: 0.7em;\n",
       "}\n",
       ".highlight-code {\n",
       "white-space: pre;\n",
       "font-family: monospace;\n",
       "}\n",
       ".suggestion-warning { \n",
       "font-weight: bold;\n",
       "color: rgb(200, 130, 0);\n",
       "}\n",
       ".suggestion-error { \n",
       "font-weight: bold;\n",
       "color: red;\n",
       "}\n",
       ".suggestion-name {\n",
       "font-weight: bold;\n",
       "}\n",
       "</style><span class='get-type'>Map.lookup 6 organCatalog :: Maybe Organ</span>"
      ],
      "text/plain": [
       "Map.lookup 6 organCatalog :: Maybe Organ"
      ]
     },
     "metadata": {},
     "output_type": "display_data"
    }
   ],
   "source": [
    ":t Map.lookup 6 organCatalog"
   ]
  },
  {
   "cell_type": "code",
   "execution_count": 6,
   "metadata": {},
   "outputs": [
    {
     "data": {
      "text/plain": [
       "[1,2,3,4,5,6,7,8,9,10,11,12,13,14,15,16,17,18,19,20,21,22,23,24,25,26,27,28,29,30,31,32,33,34,35,36,37,38,39,40,41,42,43,44,45,46,47,48,49,50]"
      ]
     },
     "metadata": {},
     "output_type": "display_data"
    }
   ],
   "source": [
    "poss = [1 .. 50]\n",
    "poss"
   ]
  },
  {
   "cell_type": "code",
   "execution_count": 16,
   "metadata": {},
   "outputs": [],
   "source": [
    "getDrawerContents :: [Int] -> Map.Map Int Organ -> [Maybe Organ]\n",
    "getDrawerContents ids catalog = map get ids\n",
    "    where get = (\\i -> Map.lookup i catalog)\n",
    "\n",
    "res = getDrawerContents poss organCatalog"
   ]
  },
  {
   "cell_type": "code",
   "execution_count": 17,
   "metadata": {},
   "outputs": [
    {
     "data": {
      "text/plain": [
       "2"
      ]
     },
     "metadata": {},
     "output_type": "display_data"
    }
   ],
   "source": [
    "countOrgans :: Organ -> [Maybe Organ] -> Int\n",
    "countOrgans toCount organs = length filtered\n",
    "    where filtered = filter (\\x -> x == Just toCount) organs\n",
    "\n",
    "countOrgans Heart res"
   ]
  },
  {
   "cell_type": "code",
   "execution_count": 19,
   "metadata": {},
   "outputs": [
    {
     "data": {
      "text/plain": [
       "[Just Heart,Just Heart,Just Brain,Just Spleen,Just Spleen,Just Kidney]"
      ]
     },
     "metadata": {},
     "output_type": "display_data"
    }
   ],
   "source": [
    "isSomething :: Maybe Organ -> Bool\n",
    "isSomething Nothing = False\n",
    "isSomething (Just _) = True\n",
    "\n",
    "justOrgans :: [Maybe Organ]\n",
    "justOrgans = filter isSomething res\n",
    "justOrgans"
   ]
  },
  {
   "cell_type": "code",
   "execution_count": 23,
   "metadata": {},
   "outputs": [
    {
     "data": {
      "text/plain": [
       "\"Heart\""
      ]
     },
     "metadata": {},
     "output_type": "display_data"
    }
   ],
   "source": [
    "showOrgan :: Maybe Organ -> String\n",
    "showOrgan (Just o) = show o\n",
    "showOrgan Nothing = \"\"\n",
    "showOrgan (Just Heart)"
   ]
  },
  {
   "cell_type": "code",
   "execution_count": 26,
   "metadata": {},
   "outputs": [
    {
     "data": {
      "text/plain": [
       "\"Heart, Heart, Brain, Spleen, Spleen, Kidney\""
      ]
     },
     "metadata": {},
     "output_type": "display_data"
    }
   ],
   "source": [
    "organList = map showOrgan justOrgans\n",
    "\n",
    "import Data.List\n",
    "niceStr = intercalate \", \" organList\n",
    "niceStr"
   ]
  },
  {
   "cell_type": "code",
   "execution_count": 27,
   "metadata": {},
   "outputs": [
    {
     "data": {
      "text/plain": [
       "23"
      ]
     },
     "metadata": {},
     "output_type": "display_data"
    }
   ],
   "source": [
    "numOrZero :: Maybe Int -> Int\n",
    "numOrZero (Just i) = i\n",
    "numOrZero Nothing = 0\n",
    "numOrZero (Just 23)\n"
   ]
  },
  {
   "cell_type": "code",
   "execution_count": 29,
   "metadata": {},
   "outputs": [
    {
     "data": {
      "text/plain": [
       "Heart in Vat"
      ]
     },
     "metadata": {},
     "output_type": "display_data"
    }
   ],
   "source": [
    "data Container = Vat Organ | Cooler Organ | Bag Organ\n",
    "\n",
    "instance Show Container where\n",
    "    show (Vat organ) = show organ ++ \" in Vat\"\n",
    "    show (Cooler organ) = show organ ++ \" in Cooler\"\n",
    "    show (Bag organ) = show organ ++ \" in Bag\"\n",
    "    \n",
    "Vat Heart"
   ]
  },
  {
   "cell_type": "code",
   "execution_count": 30,
   "metadata": {},
   "outputs": [],
   "source": [
    "data Location = Lab | Kitchen | Bathroom deriving Show\n",
    "\n",
    "organToContainer :: Organ -> Container\n",
    "organToContainer Brain = Vat Brain\n",
    "organToContainer Heart = Cooler Heart\n",
    "organToContainer organ = Bag organ\n",
    "\n",
    "placeInLocation :: Container -> (Location, Container)\n",
    "placeInLocation (Vat a) = (Lab, Vat a)\n",
    "placeInLocation (Cooler a) = (Lab, Cooler a)\n",
    "placeInLocation (Bag a) = (Kitchen, Bag a)"
   ]
  },
  {
   "cell_type": "code",
   "execution_count": 32,
   "metadata": {},
   "outputs": [],
   "source": [
    "process :: Organ -> (Location, Container)\n",
    "process o = placeInLocation(organToContainer o)\n",
    "\n",
    "report :: (Location, Container) -> String\n",
    "report (location, container) = show container ++ \" at \" ++ show location"
   ]
  },
  {
   "cell_type": "code",
   "execution_count": 35,
   "metadata": {},
   "outputs": [
    {
     "data": {
      "text/plain": [
       "\"Heart in Cooler at Lab\""
      ]
     },
     "metadata": {},
     "output_type": "display_data"
    }
   ],
   "source": [
    "report (process Heart)"
   ]
  },
  {
   "cell_type": "code",
   "execution_count": 42,
   "metadata": {},
   "outputs": [
    {
     "data": {
      "text/plain": [
       "\"Heart in Cooler at Lab\""
      ]
     },
     "metadata": {},
     "output_type": "display_data"
    },
    {
     "data": {
      "text/plain": [
       "\"Shit\""
      ]
     },
     "metadata": {},
     "output_type": "display_data"
    }
   ],
   "source": [
    "processReportMaybe :: (Maybe Organ) -> String\n",
    "processReportMaybe (Just o) = report(process o)\n",
    "processReportMaybe Nothing = \"Shit\"\n",
    "\n",
    "processRequest :: Int -> Map.Map Int Organ -> String\n",
    "processRequest id catalog = processReportMaybe organ\n",
    "    where organ = Map.lookup id catalog\n",
    "    \n",
    "processRequest 2 organCatalog\n",
    "processRequest 1 organCatalog"
   ]
  },
  {
   "cell_type": "code",
   "execution_count": 47,
   "metadata": {},
   "outputs": [],
   "source": [
    "\n",
    "report :: Maybe(Location, Container) -> String\n",
    "report (Just (location, container)) = show container ++ \" at \" ++ show location"
   ]
  },
  {
   "cell_type": "markdown",
   "metadata": {},
   "source": [
    "Q19.1 Write a function emptyDrawers that takes the output of getDrawerContents and tells\n",
    "you the number of drawers that are empty."
   ]
  },
  {
   "cell_type": "code",
   "execution_count": 54,
   "metadata": {},
   "outputs": [
    {
     "data": {
      "text/plain": [
       "[Nothing,Just Heart,Nothing,Nothing,Nothing,Nothing,Just Heart,Nothing,Nothing,Nothing,Nothing,Nothing,Just Brain,Just Spleen,Nothing,Nothing,Nothing,Nothing,Nothing,Nothing,Just Spleen,Nothing,Nothing,Just Kidney,Nothing,Nothing,Nothing,Nothing,Nothing,Nothing,Nothing,Nothing,Nothing,Nothing,Nothing,Nothing,Nothing,Nothing,Nothing,Nothing,Nothing,Nothing,Nothing,Nothing,Nothing,Nothing,Nothing,Nothing,Nothing,Nothing]"
      ]
     },
     "metadata": {},
     "output_type": "display_data"
    },
    {
     "data": {
      "text/plain": [
       "44"
      ]
     },
     "metadata": {},
     "output_type": "display_data"
    },
    {
     "data": {
      "text/plain": [
       "44"
      ]
     },
     "metadata": {},
     "output_type": "display_data"
    }
   ],
   "source": [
    "getDrawerContents :: [Int] -> Map.Map Int Organ -> [Maybe Organ]\n",
    "getDrawerContents ids catalog = map get ids\n",
    "    where get = (\\i -> Map.lookup i catalog)\n",
    "\n",
    "res = getDrawerContents poss organCatalog\n",
    "res\n",
    "\n",
    "length (filter (== Nothing) res) \n",
    "\n",
    "countNothings =  length . filter (== Nothing)\n",
    "countNothings res"
   ]
  },
  {
   "cell_type": "markdown",
   "metadata": {},
   "source": [
    "Write a version of map that works for Maybe types, called maybeMap ."
   ]
  },
  {
   "cell_type": "code",
   "execution_count": 55,
   "metadata": {},
   "outputs": [],
   "source": [
    "maybeMap :: (Maybe x -> Maybe y) -> [Maybe x] -> [Maybe y]\n",
    "maybeMap _ [] = []\n",
    "maybeMap f (x:xs) = this : maybeMap f xs\n",
    "    where this = f x\n",
    "-- I guess i did not understand the question...."
   ]
  },
  {
   "cell_type": "code",
   "execution_count": null,
   "metadata": {},
   "outputs": [],
   "source": []
  }
 ],
 "metadata": {
  "kernelspec": {
   "display_name": "Haskell",
   "language": "haskell",
   "name": "haskell"
  },
  "language_info": {
   "codemirror_mode": "ihaskell",
   "file_extension": ".hs",
   "name": "haskell",
   "pygments_lexer": "Haskell",
   "version": "8.6.4"
  }
 },
 "nbformat": 4,
 "nbformat_minor": 2
}
