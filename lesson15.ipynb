{
 "cells": [
  {
   "cell_type": "code",
   "execution_count": 22,
   "metadata": {},
   "outputs": [
    {
     "data": {
      "text/plain": [
       "L3"
      ]
     },
     "metadata": {},
     "output_type": "display_data"
    },
    {
     "data": {
      "text/plain": [
       "L4"
      ]
     },
     "metadata": {},
     "output_type": "display_data"
    },
    {
     "data": {
      "text/plain": [
       "L1"
      ]
     },
     "metadata": {},
     "output_type": "display_data"
    }
   ],
   "source": [
    "data Four = L1 | L2 | L3 | L4 deriving (Show, Enum, Bounded)\n",
    "\n",
    "-- having letter before size was bad call...cant partial app\n",
    "rotN:: (Bounded a, Enum a) => a -> Int -> a\n",
    "rotN letter size = newLetter\n",
    "    where \n",
    "    halfSize = size `div` 2\n",
    "    newLetter = toEnum ((fromEnum letter + halfSize) `mod` size)\n",
    "    \n",
    "rotN L1 4\n",
    "rotN L2 4\n",
    "rotN L3 4"
   ]
  },
  {
   "cell_type": "code",
   "execution_count": 15,
   "metadata": {},
   "outputs": [
    {
     "data": {
      "text/plain": [
       "True"
      ]
     },
     "metadata": {},
     "output_type": "display_data"
    }
   ],
   "source": [
    "rotN False 2"
   ]
  },
  {
   "cell_type": "code",
   "execution_count": 19,
   "metadata": {},
   "outputs": [
    {
     "data": {
      "text/plain": [
       "'\\557154'"
      ]
     },
     "metadata": {},
     "output_type": "display_data"
    }
   ],
   "source": [
    "rotChar :: Char -> Char\n",
    "rotChar c = rotN c size\n",
    "    where size = 1 + fromEnum(maxBound :: Char)\n",
    "\n",
    "rotChar 'b'"
   ]
  },
  {
   "cell_type": "code",
   "execution_count": 33,
   "metadata": {},
   "outputs": [
    {
     "data": {
      "text/plain": [
       "[L3,L3,L4,L4,L1]"
      ]
     },
     "metadata": {},
     "output_type": "display_data"
    },
    {
     "data": {
      "text/plain": [
       "[L3,L3,L4,L4,L1]"
      ]
     },
     "metadata": {},
     "output_type": "display_data"
    }
   ],
   "source": [
    "rotN:: (Bounded a, Enum a) => Int -> a -> a\n",
    "rotN size letter = newLetter\n",
    "    where \n",
    "    halfSize = size `div` 2\n",
    "    newLetter = toEnum ((fromEnum letter + halfSize) `mod` size)\n",
    "\n",
    "-- rotN 4 L1\n",
    "\n",
    "message :: [Four]\n",
    "message = [L1, L1, L2, L2, L3]\n",
    "\n",
    "encoder :: [Four] -> [Four]\n",
    "encoder xs = map rotNPart xs\n",
    "    where \n",
    "        maxSize = 1 + fromEnum(maxBound :: Four)\n",
    "        rotNPart = rotN maxSize\n",
    "        \n",
    "res = encoder message\n",
    "res\n",
    "undo = encoder message\n",
    "undo"
   ]
  },
  {
   "cell_type": "markdown",
   "metadata": {},
   "source": [
    "# My ROT"
   ]
  },
  {
   "cell_type": "code",
   "execution_count": 95,
   "metadata": {},
   "outputs": [
    {
     "data": {
      "text/plain": [
       "'\\557153'"
      ]
     },
     "metadata": {},
     "output_type": "display_data"
    },
    {
     "data": {
      "text/plain": [
       "'a'"
      ]
     },
     "metadata": {},
     "output_type": "display_data"
    },
    {
     "data": {
      "text/plain": [
       "\"\\557140\\557157\\557170\\557157\""
      ]
     },
     "metadata": {},
     "output_type": "display_data"
    },
    {
     "data": {
      "text/plain": [
       "\"Tere\""
      ]
     },
     "metadata": {},
     "output_type": "display_data"
    }
   ],
   "source": [
    "getMaxBound :: (Bounded a, Enum a) => a -> Int\n",
    "getMaxBound x = fromEnum (maxBound `asTypeOf` x)\n",
    "\n",
    "rotCore :: (Bounded a, Enum a) => a -> a\n",
    "rotCore letter = result\n",
    "    where\n",
    "    size = getMaxBound letter + 1\n",
    "    halfSize = size `div` 2\n",
    "    rotated = (fromEnum letter + halfSize) `mod` size\n",
    "    result = toEnum rotated\n",
    "    \n",
    "enc = rotCore 'a'\n",
    "enc\n",
    "dec = rotCore enc\n",
    "dec\n",
    "\n",
    "encstr = map rotCore \"Tere\"\n",
    "encstr\n",
    "decstr = map rotCore encstr\n",
    "decstr"
   ]
  },
  {
   "cell_type": "markdown",
   "metadata": {},
   "source": [
    "\n",
    "# XOR stuff"
   ]
  },
  {
   "cell_type": "code",
   "execution_count": 100,
   "metadata": {},
   "outputs": [
    {
     "data": {
      "text/plain": [
       "False"
      ]
     },
     "metadata": {},
     "output_type": "display_data"
    },
    {
     "data": {
      "text/plain": [
       "True"
      ]
     },
     "metadata": {},
     "output_type": "display_data"
    },
    {
     "data": {
      "text/plain": [
       "[True,False]"
      ]
     },
     "metadata": {},
     "output_type": "display_data"
    }
   ],
   "source": [
    "xorBool :: Bool -> Bool -> Bool\n",
    "xorBool a b = a /= b\n",
    "\n",
    "xorBool True True\n",
    "xorBool True False\n",
    "\n",
    "xorPair :: (Bool,Bool) -> Bool\n",
    "xorPair (v1,v2) = xorBool v1 v2\n",
    "\n",
    "xorList :: [Bool] -> [Bool] -> [Bool]\n",
    "xorList a b = map xorPair (zip a b)\n",
    "\n",
    "xorList [True, False] [False, False]"
   ]
  },
  {
   "cell_type": "code",
   "execution_count": 121,
   "metadata": {},
   "outputs": [
    {
     "data": {},
     "metadata": {},
     "output_type": "display_data"
    }
   ],
   "source": [
    ":i replicate"
   ]
  },
  {
   "cell_type": "code",
   "execution_count": 120,
   "metadata": {},
   "outputs": [
    {
     "data": {
      "text/plain": [
       "[False,False,True]"
      ]
     },
     "metadata": {},
     "output_type": "display_data"
    },
    {
     "data": {
      "text/plain": [
       "63"
      ]
     },
     "metadata": {},
     "output_type": "display_data"
    },
    {
     "data": {
      "text/plain": [
       "[False,False,False,False,False,False,False,False,False,False,False,False,False,False,False,False,False,False,False,False,False,False,False,False,False,False,False,False,False,False,False,False,False,False,False,False,False,False,False,False,False,False,False,False,False,False,False,False,False,False,False,False,False,False,False,False,False,False,False,False,True,False,False]"
      ]
     },
     "metadata": {},
     "output_type": "display_data"
    }
   ],
   "source": [
    "type Bits = [Bool]\n",
    "\n",
    "intToBits' :: Int -> Bits\n",
    "intToBits' 0 = []\n",
    "intToBits' i = lsb: intToBits' divided\n",
    "    where\n",
    "    divided = i `div` 2\n",
    "    reminder = i `mod` 2\n",
    "    lsb = reminder == 1\n",
    "    \n",
    "intToBits' 4\n",
    "\n",
    "maxBits :: Int\n",
    "maxBits = length (intToBits' maxBound)\n",
    "maxBits\n",
    "\n",
    "intToBits x = leadingFalses ++ reversed\n",
    "    where\n",
    "    reversed = reverse (intToBits' x)\n",
    "    missingBits = maxBits - length reversed\n",
    "    leadingFalses = replicate missingBits False\n",
    "intToBits 4"
   ]
  },
  {
   "cell_type": "code",
   "execution_count": 118,
   "metadata": {},
   "outputs": [
    {
     "data": {
      "text/plain": [
       "[False,False,False,False,False,False,False,False,False,False,False,False,False,False,False,False,False,False,False,False,False,False,False,False,False,False,False,False,False,False,False,False,False,False,False,False,False,False,False,False,False,False,False,False,False,False,False,False,False,False,False,False,False,False,False,False,True,True,False,False,False,False,True]"
      ]
     },
     "metadata": {},
     "output_type": "display_data"
    }
   ],
   "source": [
    "charToBits :: Char -> Bits\n",
    "charToBits c = intToBits (fromEnum c)\n",
    "charToBits 'a'"
   ]
  },
  {
   "cell_type": "code",
   "execution_count": 122,
   "metadata": {},
   "outputs": [
    {
     "data": {
      "text/plain": [
       "4"
      ]
     },
     "metadata": {},
     "output_type": "display_data"
    }
   ],
   "source": [
    "2 ^ 2"
   ]
  },
  {
   "cell_type": "code",
   "execution_count": 126,
   "metadata": {},
   "outputs": [],
   "source": [
    "bitPower :: Int -> Bool -> Int\n",
    "bitPower 0 _ = 0\n",
    "bitPower _ False = 0\n",
    "bitPower pos True = 2 ^ pos\n",
    "\n"
   ]
  },
  {
   "cell_type": "code",
   "execution_count": 142,
   "metadata": {},
   "outputs": [],
   "source": [
    "bitsToInt' :: Int -> Bits -> [Int]\n",
    "bitsToInt' 0 _ = [0]\n",
    "bitsToInt' pos (x:xs) = val: bitsToInt (pos - 1) xs\n",
    "    where val = bitPower (pos-1) x\n",
    "    "
   ]
  },
  {
   "cell_type": "code",
   "execution_count": 145,
   "metadata": {},
   "outputs": [
    {
     "data": {
      "text/plain": [
       "1256"
      ]
     },
     "metadata": {},
     "output_type": "display_data"
    }
   ],
   "source": [
    "bitsToInt :: Bits -> Int\n",
    "bitsToInt x = sum (bitsToInt' (length x) x)\n",
    "\n",
    "bitsToInt (intToBits 1256)"
   ]
  },
  {
   "cell_type": "code",
   "execution_count": 149,
   "metadata": {},
   "outputs": [
    {
     "data": {
      "text/plain": [
       "1256"
      ]
     },
     "metadata": {},
     "output_type": "display_data"
    }
   ],
   "source": [
    "-- much better from book\n",
    "bitsToInt :: Bits -> Int\n",
    "bitsToInt bits = sum (map (\\x -> 2^(snd x)) trueLocations)\n",
    "    where   size = length bits\n",
    "            indices = [size-1,size-2 .. 0]\n",
    "            trueLocations = filter (\\x -> fst x == True) (zip bits indices)\n",
    "bitsToInt (intToBits 1256)"
   ]
  },
  {
   "cell_type": "code",
   "execution_count": 150,
   "metadata": {},
   "outputs": [],
   "source": [
    "bitsToChar :: Bits -> Char\n",
    "bitsToChar bits = toEnum (bitsToInt bits)"
   ]
  },
  {
   "cell_type": "markdown",
   "metadata": {},
   "source": [
    "\n",
    "# PAD"
   ]
  },
  {
   "cell_type": "code",
   "execution_count": 155,
   "metadata": {},
   "outputs": [
    {
     "data": {
      "text/plain": [
       "[False,False,False,False,False,False,False,False,False,False,False,False,False,False,False,False,False,False,False,False,False,False,False,False,False,False,False,False,False,False,False,False,False,False,False,False,False,False,False,False,False,False,False,False,False,False,False,False,False,False,False,False,False,False,False,False,True,False,True,False,False,True,True,False,False,False,False,False,False,False,False,False,False,False,False,False,False,False,False,False,False,False,False,False,False,False,False,False,False,False,False,False,False,False,False,False,False,False,False,False,False,False,False,False,False,False,False,False,False,False,False,False,False,False,False,False,False,False,False,True,True,False,True,False,False,False,False,False,False,False,False,False,False,False,False,False,False,False,False,False,False,False,False,False,False,False,False,False,False,False,False,False,False,False,False,False,False,False,False,False,False,False,False,False,False,False,False,False,False,False,False,False,False,False,False,False,False,False,False,False,False,False,True,True,False,True,False,False,False,False,False,False,False,False,False,False,False,False,False,False,False,False,False,False,False,False,False,False,False,False,False,False,False,False,False,False,False,False,False,False,False,False,False,False,False,False,False,False,False,False,False,False,False,False,False,False,False,False,False,False,False,False,False,False,False,True,True,False,True,False,False,False,False,False,False,False,False,False,False,False,False,False,False,False,False,False,False,False,False,False,False,False,False,False,False,False,False,False,False,False,False,False,False,False,False,False,False,False,False,False,False,False,False,False,False,False,False,False,False,False,False,False,False,False,False,False,False,False,True,True,False,True,False,False,False,False,False,False,False,False,False,False,False,False,False,False,False,False,False,False,False,False,False,False,False,False,False,False,False,False,False,False,False,False,False,False,False,False,False,False,False,False,False,False,False,False,False,False,False,False,False,False,False,False,False,False,False,False,False,False,False,True,True,False,True,False,False,False,False,False,False,False,False,False,False,False,False,False,False,False,False,False,False,False,False,False,False,False,False,False,False,False,False,False,False,False,False,False,False,False,False,False,False,False,False,False,False,False,False,False,False,False,False,False,False,False,False,False,False,False,False,False,False,False,True,True,False,True,False,False,False]"
      ]
     },
     "metadata": {},
     "output_type": "display_data"
    }
   ],
   "source": [
    "myPad = \"Shhhhhh\"\n",
    "myTxt = \"Haskell\"\n",
    "\n",
    "padBits = concat (map charToBits myPad)\n",
    "padBits"
   ]
  },
  {
   "cell_type": "code",
   "execution_count": 182,
   "metadata": {},
   "outputs": [],
   "source": [
    "xorTupleBits :: (Bits, Bits) -> Bits\n",
    "xorTupleBits (a, b) = xorList a b"
   ]
  },
  {
   "cell_type": "code",
   "execution_count": 188,
   "metadata": {},
   "outputs": [
    {
     "data": {
      "text/plain": [
       "\"\\ESC\\t\\ESC\\ETX\\r\\EOT\\EOT\""
      ]
     },
     "metadata": {},
     "output_type": "display_data"
    }
   ],
   "source": [
    "apply :: String -> String -> String\n",
    "apply txt pad = stringy\n",
    "    where \n",
    "        padBits = map charToBits pad\n",
    "        txtBits = map charToBits txt\n",
    "        xored = map xorTupleBits (zip padBits txtBits)\n",
    "        stringy = map bitsToChar xored\n",
    "        \n",
    "apply myTxt myPad"
   ]
  },
  {
   "cell_type": "code",
   "execution_count": 190,
   "metadata": {},
   "outputs": [
    {
     "data": {
      "text/plain": [
       "\"1\\a\\a\\ETX\""
      ]
     },
     "metadata": {},
     "output_type": "display_data"
    },
    {
     "data": {
      "text/plain": [
       "\"book\""
      ]
     },
     "metadata": {},
     "output_type": "display_data"
    }
   ],
   "source": [
    "coder = apply myPad\n",
    "coder \"book\"\n",
    "coder \"1\\a\\a\\ETX\""
   ]
  },
  {
   "cell_type": "markdown",
   "metadata": {},
   "source": [
    "# 15.5 A Cipher class"
   ]
  },
  {
   "cell_type": "code",
   "execution_count": 195,
   "metadata": {},
   "outputs": [
    {
     "data": {
      "text/plain": [
       "\"\\557128\\557153\\557171\\557163\\557157\\557164\\557164\""
      ]
     },
     "metadata": {},
     "output_type": "display_data"
    },
    {
     "data": {
      "text/plain": [
       "\"Haskell\""
      ]
     },
     "metadata": {},
     "output_type": "display_data"
    }
   ],
   "source": [
    "class Cipher a where\n",
    "    encode :: a -> String -> String\n",
    "    decode :: a -> String -> String\n",
    "\n",
    "data Rot = Rot\n",
    "instance Cipher Rot where\n",
    "    encode Rot text = map rotCore text\n",
    "    decode Rot text = map rotCore text\n",
    "    \n",
    "encode Rot \"Haskell\"\n",
    "decode Rot \"\\557128\\557153\\557171\\557163\\557157\\557164\\557164\""
   ]
  },
  {
   "cell_type": "code",
   "execution_count": 207,
   "metadata": {},
   "outputs": [
    {
     "data": {
      "text/plain": [
       "\"H`qhaij\""
      ]
     },
     "metadata": {},
     "output_type": "display_data"
    },
    {
     "data": {
      "text/plain": [
       "\"Haskell\""
      ]
     },
     "metadata": {},
     "output_type": "display_data"
    }
   ],
   "source": [
    "data OneTimePad = Pad String\n",
    "instance Cipher OneTimePad where\n",
    "    encode (Pad pad) text = apply text pad\n",
    "    decode (Pad pad) text = apply text pad\n",
    "    \n",
    "o = Pad (cycle [minBound .. maxBound])\n",
    "encode o \"Haskell\"\n",
    "decode o \"H`qhaij\"\n",
    "-- decode Rot \"\\557128\\557153\\557171\\557163\\557157\\557164\\557164\""
   ]
  },
  {
   "cell_type": "code",
   "execution_count": 208,
   "metadata": {},
   "outputs": [],
   "source": [
    "prng :: Int -> Int -> Int -> Int -> Int\n",
    "prng a b maxNumber seed = (a*seed + b) `mod` maxNumber"
   ]
  },
  {
   "cell_type": "code",
   "execution_count": 231,
   "metadata": {},
   "outputs": [],
   "source": [
    "examplePRNG :: Int -> Int\n",
    "examplePRNG = prng 1337 7 100"
   ]
  },
  {
   "cell_type": "code",
   "execution_count": 232,
   "metadata": {},
   "outputs": [
    {
     "data": {
      "text/plain": [
       "7"
      ]
     },
     "metadata": {},
     "output_type": "display_data"
    },
    {
     "data": {
      "text/plain": [
       "75"
      ]
     },
     "metadata": {},
     "output_type": "display_data"
    },
    {
     "data": {
      "text/plain": [
       "35"
      ]
     },
     "metadata": {},
     "output_type": "display_data"
    }
   ],
   "source": [
    "examplePRNG 0\n",
    "examplePRNG 64\n",
    "examplePRNG 44"
   ]
  },
  {
   "cell_type": "markdown",
   "metadata": {},
   "source": [
    "# Excercise"
   ]
  },
  {
   "cell_type": "code",
   "execution_count": 233,
   "metadata": {},
   "outputs": [],
   "source": [
    "rand' :: Int -> Int -> [Int]\n",
    "rand' val 0 = []\n",
    "rand' val n = rng:rand' rng (n-1)\n",
    "    where rng = examplePRNG val\n",
    "    "
   ]
  },
  {
   "cell_type": "code",
   "execution_count": 235,
   "metadata": {},
   "outputs": [
    {
     "data": {
      "text/plain": [
       "[7,66,49,20,47,46,9,40,87,26,69,60,27,6,29,80,67,86,89,0,7,66,49,20,47,46,9,40,87,26,69,60,27,6,29,80,67,86,89,0,7,66,49,20,47,46,9,40,87,26,69,60,27,6,29,80,67,86,89,0,7,66,49,20,47,46,9,40,87,26,69,60,27,6,29,80,67,86,89,0,7,66,49,20,47,46,9,40,87,26,69,60,27,6,29,80,67,86,89,0,7,66,49,20,47,46,9,40,87,26,69,60,27,6,29,80,67,86,89,0,7,66,49,20,47,46,9,40]"
      ]
     },
     "metadata": {},
     "output_type": "display_data"
    }
   ],
   "source": [
    "rand :: Int -> [Int]\n",
    "rand = rand' 0\n",
    "rand 128"
   ]
  },
  {
   "cell_type": "code",
   "execution_count": 237,
   "metadata": {},
   "outputs": [],
   "source": [
    "randString :: Int -> String\n",
    "randString n = strs \n",
    "    where \n",
    "        ints = rand n\n",
    "        strs = map (toEnum) ints"
   ]
  },
  {
   "cell_type": "code",
   "execution_count": 238,
   "metadata": {},
   "outputs": [
    {
     "data": {
      "text/plain": [
       "\"\\aB1\\DC4/.\\t(W\\SUBE<\""
      ]
     },
     "metadata": {},
     "output_type": "display_data"
    }
   ],
   "source": [
    "randString 12"
   ]
  },
  {
   "cell_type": "code",
   "execution_count": 243,
   "metadata": {},
   "outputs": [],
   "source": [
    "data Streamer = Streamer\n",
    "\n",
    "instance Cipher Streamer where\n",
    "    encode Streamer text = apply text pad\n",
    "        where pad = randString (length text)\n",
    "    decode Streamer text = apply text pad\n",
    "        where pad = randString (length text)"
   ]
  },
  {
   "cell_type": "code",
   "execution_count": 244,
   "metadata": {},
   "outputs": [
    {
     "data": {
      "text/plain": [
       "\"6p\\STX\""
      ]
     },
     "metadata": {},
     "output_type": "display_data"
    },
    {
     "data": {
      "text/plain": [
       "\"123\""
      ]
     },
     "metadata": {},
     "output_type": "display_data"
    }
   ],
   "source": [
    "encode Streamer \"123\"\n",
    "decode Streamer \"6p\\STX\""
   ]
  }
 ],
 "metadata": {
  "kernelspec": {
   "display_name": "Haskell",
   "language": "haskell",
   "name": "haskell"
  },
  "language_info": {
   "codemirror_mode": "ihaskell",
   "file_extension": ".hs",
   "name": "haskell",
   "pygments_lexer": "Haskell",
   "version": "8.6.4"
  }
 },
 "nbformat": 4,
 "nbformat_minor": 2
}
